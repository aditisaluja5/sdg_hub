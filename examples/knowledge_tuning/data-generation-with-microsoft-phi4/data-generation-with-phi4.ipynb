{
 "cells": [
  {
   "cell_type": "code",
   "execution_count": 2,
   "metadata": {},
   "outputs": [],
   "source": [
    "%load_ext autoreload\n",
    "%autoreload 2"
   ]
  },
  {
   "cell_type": "markdown",
   "metadata": {},
   "source": [
    "## Data Generation with Microsoft Phi-4"
   ]
  },
  {
   "cell_type": "code",
   "execution_count": null,
   "metadata": {},
   "outputs": [],
   "source": [
    "# Import required libraries\n",
    "# datasets: For handling our data\n",
    "# OpenAI: For interfacing with the LLM servers\n",
    "# SDG components: For building our data generation pipeline\n",
    "from datasets import load_dataset, Dataset\n",
    "from openai import OpenAI\n",
    "\n",
    "from sdg_hub.flow import Flow\n",
    "from sdg_hub.pipeline import Pipeline\n",
    "from sdg_hub.sdg import SDG\n",
    "from sdg_hub.registry import PromptRegistry"
   ]
  },
  {
   "cell_type": "markdown",
   "metadata": {},
   "source": [
    "## Specify model endpoint, API key"
   ]
  },
  {
   "cell_type": "code",
   "execution_count": null,
   "metadata": {},
   "outputs": [],
   "source": [
    "# Configure OpenAI client to connect to our local vLLM server\n",
    "endpoint = f\"\"\n",
    "openai_api_key = \"\"  # vLLM doesn't require real API key\n",
    "openai_api_base = endpoint\n",
    "\n",
    "client = OpenAI(\n",
    "    api_key=openai_api_key,\n",
    "    base_url=openai_api_base,\n",
    ")\n",
    "\n",
    "# Verify we can see the model\n",
    "teacher_model = client.models.list().data[0].id\n",
    "print(f\"Connected to model: {teacher_model}\")"
   ]
  },
  {
   "cell_type": "markdown",
   "metadata": {},
   "source": [
    "## Provide Chunked Input json for the LLM"
   ]
  },
  {
   "cell_type": "code",
   "execution_count": 5,
   "metadata": {},
   "outputs": [],
   "source": [
    "# Load the seed data from JSON file\n",
    "seed_data_path = \"\"  # Replace with your data path\n",
    "ds = load_dataset('json', data_files=seed_data_path, split='train')\n",
    "# For testing, we'll use just one example\n",
    "ds = ds.select(range(1))"
   ]
  },
  {
   "cell_type": "markdown",
   "metadata": {},
   "source": [
    "## Check Phi4 prompt exists in PromptRegistry"
   ]
  },
  {
   "cell_type": "code",
   "execution_count": 8,
   "metadata": {},
   "outputs": [
    {
     "data": {
      "text/plain": [
       "{'blank': <Template memory:116aba040>,\n",
       " 'instructlab': <Template memory:116ad4880>,\n",
       " 'mistralai': <Template memory:116a8ef40>,\n",
       " 'meta-llama/Llama-3.3': <Template memory:116b0c040>,\n",
       " 'microsoft/phi-4': <Template memory:116ade2e0>,\n",
       " 'nvidia/Llama-3_3-Nemotron-Super-49B-v1': <Template memory:116b0c190>,\n",
       " 'Qwen/Qwen2.5': <Template memory:116afcc10>,\n",
       " 'Qwen/Qwen3': <Template memory:116ac3c10>}"
      ]
     },
     "execution_count": 8,
     "metadata": {},
     "output_type": "execute_result"
    }
   ],
   "source": [
    "from sdg_hub.prompts import PromptRegistry\n",
    "PromptRegistry.get_registry()"
   ]
  },
  {
   "cell_type": "markdown",
   "metadata": {},
   "source": [
    "## Enable logging, Generate data with Phi4"
   ]
  },
  {
   "cell_type": "code",
   "execution_count": 9,
   "metadata": {},
   "outputs": [],
   "source": [
    "# Load the flow configuration from YAML file\n",
    "#Logging level is set to debug to see the flow in action\n",
    "flow = Flow(client, log_level=\"debug\").get_flow_from_file(\"synth_knowledge1.5_phi4.yaml\")\n",
    "\n",
    "# Initialize the SDG pipeline with processing parameters\n",
    "sdg = SDG(\n",
    "    [flow],\n",
    "    num_workers=1,      # Number of parallel workers\n",
    "    batch_size=1,       # Batch size for processing\n",
    "    save_freq=1000,     # How often to save checkpoints\n",
    ")"
   ]
  },
  {
   "cell_type": "code",
   "execution_count": 10,
   "metadata": {},
   "outputs": [
    {
     "data": {
      "text/html": [
       "<pre style=\"white-space:pre;overflow-x:auto;line-height:normal;font-family:Menlo,'DejaVu Sans Mono',consolas,'Courier New',monospace\"><span style=\"color: #7fbfbf; text-decoration-color: #7fbfbf\">[16:39:04] </span><span style=\"color: #000080; text-decoration-color: #000080\">INFO    </span> Splitting the dataset into smaller batches                                           <a href=\"file:///Users/aditisaluja/Desktop/sdg_hub/.venv_sdg/lib/python3.9/site-packages/sdg_hub/sdg.py\" target=\"_blank\"><span style=\"color: #7f7f7f; text-decoration-color: #7f7f7f\">sdg.py</span></a><span style=\"color: #7f7f7f; text-decoration-color: #7f7f7f\">:</span><a href=\"file:///Users/aditisaluja/Desktop/sdg_hub/.venv_sdg/lib/python3.9/site-packages/sdg_hub/sdg.py#167\" target=\"_blank\"><span style=\"color: #7f7f7f; text-decoration-color: #7f7f7f\">167</span></a>\n",
       "</pre>\n"
      ],
      "text/plain": [
       "\u001b[2;36m[16:39:04]\u001b[0m\u001b[2;36m \u001b[0m\u001b[34mINFO    \u001b[0m Splitting the dataset into smaller batches                                           \u001b]8;id=255478;file:///Users/aditisaluja/Desktop/sdg_hub/.venv_sdg/lib/python3.9/site-packages/sdg_hub/sdg.py\u001b\\\u001b[2msdg.py\u001b[0m\u001b]8;;\u001b\\\u001b[2m:\u001b[0m\u001b]8;id=958520;file:///Users/aditisaluja/Desktop/sdg_hub/.venv_sdg/lib/python3.9/site-packages/sdg_hub/sdg.py#167\u001b\\\u001b[2m167\u001b[0m\u001b]8;;\u001b\\\n"
      ]
     },
     "metadata": {},
     "output_type": "display_data"
    },
    {
     "name": "stderr",
     "output_type": "stream",
     "text": [
      "100%|██████████| 1/1 [00:00<00:00, 19239.93it/s]\n"
     ]
    },
    {
     "data": {
      "text/html": [
       "<pre style=\"white-space:pre;overflow-x:auto;line-height:normal;font-family:Menlo,'DejaVu Sans Mono',consolas,'Courier New',monospace\"><span style=\"color: #7fbfbf; text-decoration-color: #7fbfbf\">           </span><span style=\"color: #000080; text-decoration-color: #000080\">INFO    </span> Generating dataset with <span style=\"color: #008080; text-decoration-color: #008080; font-weight: bold\">1</span> splits, batch size <span style=\"color: #008080; text-decoration-color: #008080; font-weight: bold\">1</span>, and <span style=\"color: #008080; text-decoration-color: #008080; font-weight: bold\">1</span> workers                        <a href=\"file:///Users/aditisaluja/Desktop/sdg_hub/.venv_sdg/lib/python3.9/site-packages/sdg_hub/sdg.py\" target=\"_blank\"><span style=\"color: #7f7f7f; text-decoration-color: #7f7f7f\">sdg.py</span></a><span style=\"color: #7f7f7f; text-decoration-color: #7f7f7f\">:</span><a href=\"file:///Users/aditisaluja/Desktop/sdg_hub/.venv_sdg/lib/python3.9/site-packages/sdg_hub/sdg.py#169\" target=\"_blank\"><span style=\"color: #7f7f7f; text-decoration-color: #7f7f7f\">169</span></a>\n",
       "</pre>\n"
      ],
      "text/plain": [
       "\u001b[2;36m          \u001b[0m\u001b[2;36m \u001b[0m\u001b[34mINFO    \u001b[0m Generating dataset with \u001b[1;36m1\u001b[0m splits, batch size \u001b[1;36m1\u001b[0m, and \u001b[1;36m1\u001b[0m workers                        \u001b]8;id=698968;file:///Users/aditisaluja/Desktop/sdg_hub/.venv_sdg/lib/python3.9/site-packages/sdg_hub/sdg.py\u001b\\\u001b[2msdg.py\u001b[0m\u001b]8;;\u001b\\\u001b[2m:\u001b[0m\u001b]8;id=694718;file:///Users/aditisaluja/Desktop/sdg_hub/.venv_sdg/lib/python3.9/site-packages/sdg_hub/sdg.py#169\u001b\\\u001b[2m169\u001b[0m\u001b]8;;\u001b\\\n"
      ]
     },
     "metadata": {},
     "output_type": "display_data"
    },
    {
     "data": {
      "text/html": [
       "<pre style=\"white-space:pre;overflow-x:auto;line-height:normal;font-family:Menlo,'DejaVu Sans Mono',consolas,'Courier New',monospace\"><span style=\"color: #7fbfbf; text-decoration-color: #7fbfbf\">           </span><span style=\"color: #000080; text-decoration-color: #000080\">INFO    </span> Processing split <span style=\"color: #008080; text-decoration-color: #008080; font-weight: bold\">0</span>                                                                   <a href=\"file:///Users/aditisaluja/Desktop/sdg_hub/.venv_sdg/lib/python3.9/site-packages/sdg_hub/sdg.py\" target=\"_blank\"><span style=\"color: #7f7f7f; text-decoration-color: #7f7f7f\">sdg.py</span></a><span style=\"color: #7f7f7f; text-decoration-color: #7f7f7f\">:</span><a href=\"file:///Users/aditisaluja/Desktop/sdg_hub/.venv_sdg/lib/python3.9/site-packages/sdg_hub/sdg.py#116\" target=\"_blank\"><span style=\"color: #7f7f7f; text-decoration-color: #7f7f7f\">116</span></a>\n",
       "</pre>\n"
      ],
      "text/plain": [
       "\u001b[2;36m          \u001b[0m\u001b[2;36m \u001b[0m\u001b[34mINFO    \u001b[0m Processing split \u001b[1;36m0\u001b[0m                                                                   \u001b]8;id=375973;file:///Users/aditisaluja/Desktop/sdg_hub/.venv_sdg/lib/python3.9/site-packages/sdg_hub/sdg.py\u001b\\\u001b[2msdg.py\u001b[0m\u001b]8;;\u001b\\\u001b[2m:\u001b[0m\u001b]8;id=175989;file:///Users/aditisaluja/Desktop/sdg_hub/.venv_sdg/lib/python3.9/site-packages/sdg_hub/sdg.py#116\u001b\\\u001b[2m116\u001b[0m\u001b]8;;\u001b\\\n"
      ]
     },
     "metadata": {},
     "output_type": "display_data"
    },
    {
     "name": "stderr",
     "output_type": "stream",
     "text": [
      "  0%|          | 0/1 [00:00<?, ?it/s]"
     ]
    },
    {
     "data": {
      "text/html": [
       "<pre style=\"white-space:pre;overflow-x:auto;line-height:normal;font-family:Menlo,'DejaVu Sans Mono',consolas,'Courier New',monospace\"><span style=\"color: #7fbfbf; text-decoration-color: #7fbfbf\">           </span><span style=\"color: #000080; text-decoration-color: #000080\">INFO    </span> 🔄 Running block <span style=\"color: #008080; text-decoration-color: #008080; font-weight: bold\">1</span>/<span style=\"color: #008080; text-decoration-color: #008080; font-weight: bold\">13</span>: duplicate_document_col                                       <a href=\"file:///Users/aditisaluja/Desktop/sdg_hub/.venv_sdg/lib/python3.9/site-packages/sdg_hub/flow.py\" target=\"_blank\"><span style=\"color: #7f7f7f; text-decoration-color: #7f7f7f\">flow.py</span></a><span style=\"color: #7f7f7f; text-decoration-color: #7f7f7f\">:</span><a href=\"file:///Users/aditisaluja/Desktop/sdg_hub/.venv_sdg/lib/python3.9/site-packages/sdg_hub/flow.py#205\" target=\"_blank\"><span style=\"color: #7f7f7f; text-decoration-color: #7f7f7f\">205</span></a>\n",
       "</pre>\n"
      ],
      "text/plain": [
       "\u001b[2;36m          \u001b[0m\u001b[2;36m \u001b[0m\u001b[34mINFO    \u001b[0m 🔄 Running block \u001b[1;36m1\u001b[0m/\u001b[1;36m13\u001b[0m: duplicate_document_col                                       \u001b]8;id=805077;file:///Users/aditisaluja/Desktop/sdg_hub/.venv_sdg/lib/python3.9/site-packages/sdg_hub/flow.py\u001b\\\u001b[2mflow.py\u001b[0m\u001b]8;;\u001b\\\u001b[2m:\u001b[0m\u001b]8;id=956005;file:///Users/aditisaluja/Desktop/sdg_hub/.venv_sdg/lib/python3.9/site-packages/sdg_hub/flow.py#205\u001b\\\u001b[2m205\u001b[0m\u001b]8;;\u001b\\\n"
      ]
     },
     "metadata": {},
     "output_type": "display_data"
    },
    {
     "data": {
      "text/html": [
       "<pre style=\"white-space:pre;overflow-x:auto;line-height:normal;font-family:Menlo,'DejaVu Sans Mono',consolas,'Courier New',monospace\"><span style=\"font-style: italic\">                                     Input Block 1/13: duplicate_document_col                                      </span>\n",
       "┏━━━━━━━━━┳━━━━━━━━━━━━━━━━━━━━━━━━━━━━━━━━━━━━━━━━━━━━━━━━━━━━━━━━━━━━━━━━━━━━━━━━━━━━━━━━━━━━━━━━━━━━━━━━━━━━━━━┓\n",
       "┃<span style=\"font-weight: bold\"> Metric  </span>┃<span style=\"font-weight: bold\"> Value                                                                                                 </span>┃\n",
       "┡━━━━━━━━━╇━━━━━━━━━━━━━━━━━━━━━━━━━━━━━━━━━━━━━━━━━━━━━━━━━━━━━━━━━━━━━━━━━━━━━━━━━━━━━━━━━━━━━━━━━━━━━━━━━━━━━━━┩\n",
       "│<span style=\"color: #008080; text-decoration-color: #008080\"> Rows    </span>│<span style=\"color: #800080; text-decoration-color: #800080\"> 1                                                                                                     </span>│\n",
       "│<span style=\"color: #008080; text-decoration-color: #008080\"> Columns </span>│<span style=\"color: #800080; text-decoration-color: #800080\"> document_outline, document_title, domain, icl_document, icl_query_1, icl_response_1, icl_query_2,     </span>│\n",
       "│<span style=\"color: #008080; text-decoration-color: #008080\">         </span>│<span style=\"color: #800080; text-decoration-color: #800080\"> icl_response_2, icl_query_3, icl_response_3, document                                                 </span>│\n",
       "└─────────┴───────────────────────────────────────────────────────────────────────────────────────────────────────┘\n",
       "</pre>\n"
      ],
      "text/plain": [
       "\u001b[3m                                     Input Block 1/13: duplicate_document_col                                      \u001b[0m\n",
       "┏━━━━━━━━━┳━━━━━━━━━━━━━━━━━━━━━━━━━━━━━━━━━━━━━━━━━━━━━━━━━━━━━━━━━━━━━━━━━━━━━━━━━━━━━━━━━━━━━━━━━━━━━━━━━━━━━━━┓\n",
       "┃\u001b[1m \u001b[0m\u001b[1mMetric \u001b[0m\u001b[1m \u001b[0m┃\u001b[1m \u001b[0m\u001b[1mValue                                                                                                \u001b[0m\u001b[1m \u001b[0m┃\n",
       "┡━━━━━━━━━╇━━━━━━━━━━━━━━━━━━━━━━━━━━━━━━━━━━━━━━━━━━━━━━━━━━━━━━━━━━━━━━━━━━━━━━━━━━━━━━━━━━━━━━━━━━━━━━━━━━━━━━━┩\n",
       "│\u001b[36m \u001b[0m\u001b[36mRows   \u001b[0m\u001b[36m \u001b[0m│\u001b[35m \u001b[0m\u001b[35m1                                                                                                    \u001b[0m\u001b[35m \u001b[0m│\n",
       "│\u001b[36m \u001b[0m\u001b[36mColumns\u001b[0m\u001b[36m \u001b[0m│\u001b[35m \u001b[0m\u001b[35mdocument_outline, document_title, domain, icl_document, icl_query_1, icl_response_1, icl_query_2,    \u001b[0m\u001b[35m \u001b[0m│\n",
       "│\u001b[36m         \u001b[0m│\u001b[35m \u001b[0m\u001b[35micl_response_2, icl_query_3, icl_response_3, document                                                \u001b[0m\u001b[35m \u001b[0m│\n",
       "└─────────┴───────────────────────────────────────────────────────────────────────────────────────────────────────┘\n"
      ]
     },
     "metadata": {},
     "output_type": "display_data"
    },
    {
     "data": {
      "text/html": [
       "<pre style=\"white-space:pre;overflow-x:auto;line-height:normal;font-family:Menlo,'DejaVu Sans Mono',consolas,'Courier New',monospace\"><span style=\"font-style: italic\">                                     Output Block 1/13: duplicate_document_col                                     </span>\n",
       "┏━━━━━━━━━┳━━━━━━━━━━━━━━━━━━━━━━━━━━━━━━━━━━━━━━━━━━━━━━━━━━━━━━━━━━━━━━━━━━━━━━━━━━━━━━━━━━━━━━━━━━━━━━━━━━━━━━━┓\n",
       "┃<span style=\"font-weight: bold\"> Metric  </span>┃<span style=\"font-weight: bold\"> Value                                                                                                 </span>┃\n",
       "┡━━━━━━━━━╇━━━━━━━━━━━━━━━━━━━━━━━━━━━━━━━━━━━━━━━━━━━━━━━━━━━━━━━━━━━━━━━━━━━━━━━━━━━━━━━━━━━━━━━━━━━━━━━━━━━━━━━┩\n",
       "│<span style=\"color: #008080; text-decoration-color: #008080\"> Rows    </span>│<span style=\"color: #800080; text-decoration-color: #800080\"> 1                                                                                                     </span>│\n",
       "│<span style=\"color: #008080; text-decoration-color: #008080\"> Columns </span>│<span style=\"color: #800080; text-decoration-color: #800080\"> document_outline, document_title, domain, icl_document, icl_query_1, icl_response_1, icl_query_2,     </span>│\n",
       "│<span style=\"color: #008080; text-decoration-color: #008080\">         </span>│<span style=\"color: #800080; text-decoration-color: #800080\"> icl_response_2, icl_query_3, icl_response_3, document, base_document                                  </span>│\n",
       "└─────────┴───────────────────────────────────────────────────────────────────────────────────────────────────────┘\n",
       "</pre>\n"
      ],
      "text/plain": [
       "\u001b[3m                                     Output Block 1/13: duplicate_document_col                                     \u001b[0m\n",
       "┏━━━━━━━━━┳━━━━━━━━━━━━━━━━━━━━━━━━━━━━━━━━━━━━━━━━━━━━━━━━━━━━━━━━━━━━━━━━━━━━━━━━━━━━━━━━━━━━━━━━━━━━━━━━━━━━━━━┓\n",
       "┃\u001b[1m \u001b[0m\u001b[1mMetric \u001b[0m\u001b[1m \u001b[0m┃\u001b[1m \u001b[0m\u001b[1mValue                                                                                                \u001b[0m\u001b[1m \u001b[0m┃\n",
       "┡━━━━━━━━━╇━━━━━━━━━━━━━━━━━━━━━━━━━━━━━━━━━━━━━━━━━━━━━━━━━━━━━━━━━━━━━━━━━━━━━━━━━━━━━━━━━━━━━━━━━━━━━━━━━━━━━━━┩\n",
       "│\u001b[36m \u001b[0m\u001b[36mRows   \u001b[0m\u001b[36m \u001b[0m│\u001b[35m \u001b[0m\u001b[35m1                                                                                                    \u001b[0m\u001b[35m \u001b[0m│\n",
       "│\u001b[36m \u001b[0m\u001b[36mColumns\u001b[0m\u001b[36m \u001b[0m│\u001b[35m \u001b[0m\u001b[35mdocument_outline, document_title, domain, icl_document, icl_query_1, icl_response_1, icl_query_2,    \u001b[0m\u001b[35m \u001b[0m│\n",
       "│\u001b[36m         \u001b[0m│\u001b[35m \u001b[0m\u001b[35micl_response_2, icl_query_3, icl_response_3, document, base_document                                 \u001b[0m\u001b[35m \u001b[0m│\n",
       "└─────────┴───────────────────────────────────────────────────────────────────────────────────────────────────────┘\n"
      ]
     },
     "metadata": {},
     "output_type": "display_data"
    },
    {
     "data": {
      "text/html": [
       "<pre style=\"white-space:pre;overflow-x:auto;line-height:normal;font-family:Menlo,'DejaVu Sans Mono',consolas,'Courier New',monospace\"><span style=\"color: #7fbfbf; text-decoration-color: #7fbfbf\">           </span><span style=\"color: #000080; text-decoration-color: #000080\">INFO    </span> HTTP Request: <span style=\"color: #808000; text-decoration-color: #808000; font-weight: bold\">POST</span>                                                              <a href=\"file:///Users/aditisaluja/Desktop/sdg_hub/.venv_sdg/lib/python3.9/site-packages/httpx/_client.py\" target=\"_blank\"><span style=\"color: #7f7f7f; text-decoration-color: #7f7f7f\">_client.py</span></a><span style=\"color: #7f7f7f; text-decoration-color: #7f7f7f\">:</span><a href=\"file:///Users/aditisaluja/Desktop/sdg_hub/.venv_sdg/lib/python3.9/site-packages/httpx/_client.py#1025\" target=\"_blank\"><span style=\"color: #7f7f7f; text-decoration-color: #7f7f7f\">1025</span></a>\n",
       "<span style=\"color: #7fbfbf; text-decoration-color: #7fbfbf\">           </span>         <span style=\"color: #0000ff; text-decoration-color: #0000ff; text-decoration: underline\">https://phi-4-maas-apicast-production.apps.prod.rhoai.rh-aiservices-bu.com/v1/c</span> <span style=\"color: #7f7f7f; text-decoration-color: #7f7f7f\">               </span>\n",
       "<span style=\"color: #7fbfbf; text-decoration-color: #7fbfbf\">           </span>         <span style=\"color: #0000ff; text-decoration-color: #0000ff; text-decoration: underline\">ompletions</span> <span style=\"color: #008000; text-decoration-color: #008000\">\"HTTP/1.1 200 OK\"</span>                                                    <span style=\"color: #7f7f7f; text-decoration-color: #7f7f7f\">               </span>\n",
       "</pre>\n"
      ],
      "text/plain": [
       "\u001b[2;36m          \u001b[0m\u001b[2;36m \u001b[0m\u001b[34mINFO    \u001b[0m HTTP Request: \u001b[1;33mPOST\u001b[0m                                                              \u001b]8;id=769486;file:///Users/aditisaluja/Desktop/sdg_hub/.venv_sdg/lib/python3.9/site-packages/httpx/_client.py\u001b\\\u001b[2m_client.py\u001b[0m\u001b]8;;\u001b\\\u001b[2m:\u001b[0m\u001b]8;id=885568;file:///Users/aditisaluja/Desktop/sdg_hub/.venv_sdg/lib/python3.9/site-packages/httpx/_client.py#1025\u001b\\\u001b[2m1025\u001b[0m\u001b]8;;\u001b\\\n",
       "\u001b[2;36m           \u001b[0m         \u001b[4;94mhttps://phi-4-maas-apicast-production.apps.prod.rhoai.rh-aiservices-bu.com/v1/c\u001b[0m \u001b[2m               \u001b[0m\n",
       "\u001b[2;36m           \u001b[0m         \u001b[4;94mompletions\u001b[0m \u001b[32m\"HTTP/1.1 200 OK\"\u001b[0m                                                    \u001b[2m               \u001b[0m\n"
      ]
     },
     "metadata": {},
     "output_type": "display_data"
    },
    {
     "data": {
      "text/html": [
       "<pre style=\"white-space:pre;overflow-x:auto;line-height:normal;font-family:Menlo,'DejaVu Sans Mono',consolas,'Courier New',monospace\"><span style=\"color: #7fbfbf; text-decoration-color: #7fbfbf\">           </span><span style=\"color: #000080; text-decoration-color: #000080\">INFO    </span> LLM server supports batched inputs: <span style=\"color: #00ff00; text-decoration-color: #00ff00; font-style: italic\">True</span>                                         <a href=\"file:///Users/aditisaluja/Desktop/sdg_hub/.venv_sdg/lib/python3.9/site-packages/sdg_hub/blocks/llmblock.py\" target=\"_blank\"><span style=\"color: #7f7f7f; text-decoration-color: #7f7f7f\">llmblock.py</span></a><span style=\"color: #7f7f7f; text-decoration-color: #7f7f7f\">:</span><a href=\"file:///Users/aditisaluja/Desktop/sdg_hub/.venv_sdg/lib/python3.9/site-packages/sdg_hub/blocks/llmblock.py#51\" target=\"_blank\"><span style=\"color: #7f7f7f; text-decoration-color: #7f7f7f\">51</span></a>\n",
       "</pre>\n"
      ],
      "text/plain": [
       "\u001b[2;36m          \u001b[0m\u001b[2;36m \u001b[0m\u001b[34mINFO    \u001b[0m LLM server supports batched inputs: \u001b[3;92mTrue\u001b[0m                                         \u001b]8;id=119563;file:///Users/aditisaluja/Desktop/sdg_hub/.venv_sdg/lib/python3.9/site-packages/sdg_hub/blocks/llmblock.py\u001b\\\u001b[2mllmblock.py\u001b[0m\u001b]8;;\u001b\\\u001b[2m:\u001b[0m\u001b]8;id=468038;file:///Users/aditisaluja/Desktop/sdg_hub/.venv_sdg/lib/python3.9/site-packages/sdg_hub/blocks/llmblock.py#51\u001b\\\u001b[2m51\u001b[0m\u001b]8;;\u001b\\\n"
      ]
     },
     "metadata": {},
     "output_type": "display_data"
    },
    {
     "data": {
      "text/html": [
       "<pre style=\"white-space:pre;overflow-x:auto;line-height:normal;font-family:Menlo,'DejaVu Sans Mono',consolas,'Courier New',monospace\"><span style=\"color: #7fbfbf; text-decoration-color: #7fbfbf\">           </span><span style=\"color: #000080; text-decoration-color: #000080\">INFO    </span> 🔄 Running block <span style=\"color: #008080; text-decoration-color: #008080; font-weight: bold\">2</span>/<span style=\"color: #008080; text-decoration-color: #008080; font-weight: bold\">13</span>: gen_detailed_summary                                         <a href=\"file:///Users/aditisaluja/Desktop/sdg_hub/.venv_sdg/lib/python3.9/site-packages/sdg_hub/flow.py\" target=\"_blank\"><span style=\"color: #7f7f7f; text-decoration-color: #7f7f7f\">flow.py</span></a><span style=\"color: #7f7f7f; text-decoration-color: #7f7f7f\">:</span><a href=\"file:///Users/aditisaluja/Desktop/sdg_hub/.venv_sdg/lib/python3.9/site-packages/sdg_hub/flow.py#205\" target=\"_blank\"><span style=\"color: #7f7f7f; text-decoration-color: #7f7f7f\">205</span></a>\n",
       "</pre>\n"
      ],
      "text/plain": [
       "\u001b[2;36m          \u001b[0m\u001b[2;36m \u001b[0m\u001b[34mINFO    \u001b[0m 🔄 Running block \u001b[1;36m2\u001b[0m/\u001b[1;36m13\u001b[0m: gen_detailed_summary                                         \u001b]8;id=33391;file:///Users/aditisaluja/Desktop/sdg_hub/.venv_sdg/lib/python3.9/site-packages/sdg_hub/flow.py\u001b\\\u001b[2mflow.py\u001b[0m\u001b]8;;\u001b\\\u001b[2m:\u001b[0m\u001b]8;id=999179;file:///Users/aditisaluja/Desktop/sdg_hub/.venv_sdg/lib/python3.9/site-packages/sdg_hub/flow.py#205\u001b\\\u001b[2m205\u001b[0m\u001b]8;;\u001b\\\n"
      ]
     },
     "metadata": {},
     "output_type": "display_data"
    },
    {
     "data": {
      "text/html": [
       "<pre style=\"white-space:pre;overflow-x:auto;line-height:normal;font-family:Menlo,'DejaVu Sans Mono',consolas,'Courier New',monospace\"><span style=\"font-style: italic\">                                      Input Block 2/13: gen_detailed_summary                                       </span>\n",
       "┏━━━━━━━━━┳━━━━━━━━━━━━━━━━━━━━━━━━━━━━━━━━━━━━━━━━━━━━━━━━━━━━━━━━━━━━━━━━━━━━━━━━━━━━━━━━━━━━━━━━━━━━━━━━━━━━━━━┓\n",
       "┃<span style=\"font-weight: bold\"> Metric  </span>┃<span style=\"font-weight: bold\"> Value                                                                                                 </span>┃\n",
       "┡━━━━━━━━━╇━━━━━━━━━━━━━━━━━━━━━━━━━━━━━━━━━━━━━━━━━━━━━━━━━━━━━━━━━━━━━━━━━━━━━━━━━━━━━━━━━━━━━━━━━━━━━━━━━━━━━━━┩\n",
       "│<span style=\"color: #008080; text-decoration-color: #008080\"> Rows    </span>│<span style=\"color: #800080; text-decoration-color: #800080\"> 1                                                                                                     </span>│\n",
       "│<span style=\"color: #008080; text-decoration-color: #008080\"> Columns </span>│<span style=\"color: #800080; text-decoration-color: #800080\"> document_outline, document_title, domain, icl_document, icl_query_1, icl_response_1, icl_query_2,     </span>│\n",
       "│<span style=\"color: #008080; text-decoration-color: #008080\">         </span>│<span style=\"color: #800080; text-decoration-color: #800080\"> icl_response_2, icl_query_3, icl_response_3, document, base_document                                  </span>│\n",
       "└─────────┴───────────────────────────────────────────────────────────────────────────────────────────────────────┘\n",
       "</pre>\n"
      ],
      "text/plain": [
       "\u001b[3m                                      Input Block 2/13: gen_detailed_summary                                       \u001b[0m\n",
       "┏━━━━━━━━━┳━━━━━━━━━━━━━━━━━━━━━━━━━━━━━━━━━━━━━━━━━━━━━━━━━━━━━━━━━━━━━━━━━━━━━━━━━━━━━━━━━━━━━━━━━━━━━━━━━━━━━━━┓\n",
       "┃\u001b[1m \u001b[0m\u001b[1mMetric \u001b[0m\u001b[1m \u001b[0m┃\u001b[1m \u001b[0m\u001b[1mValue                                                                                                \u001b[0m\u001b[1m \u001b[0m┃\n",
       "┡━━━━━━━━━╇━━━━━━━━━━━━━━━━━━━━━━━━━━━━━━━━━━━━━━━━━━━━━━━━━━━━━━━━━━━━━━━━━━━━━━━━━━━━━━━━━━━━━━━━━━━━━━━━━━━━━━━┩\n",
       "│\u001b[36m \u001b[0m\u001b[36mRows   \u001b[0m\u001b[36m \u001b[0m│\u001b[35m \u001b[0m\u001b[35m1                                                                                                    \u001b[0m\u001b[35m \u001b[0m│\n",
       "│\u001b[36m \u001b[0m\u001b[36mColumns\u001b[0m\u001b[36m \u001b[0m│\u001b[35m \u001b[0m\u001b[35mdocument_outline, document_title, domain, icl_document, icl_query_1, icl_response_1, icl_query_2,    \u001b[0m\u001b[35m \u001b[0m│\n",
       "│\u001b[36m         \u001b[0m│\u001b[35m \u001b[0m\u001b[35micl_response_2, icl_query_3, icl_response_3, document, base_document                                 \u001b[0m\u001b[35m \u001b[0m│\n",
       "└─────────┴───────────────────────────────────────────────────────────────────────────────────────────────────────┘\n"
      ]
     },
     "metadata": {},
     "output_type": "display_data"
    },
    {
     "data": {
      "text/html": [
       "<pre style=\"white-space:pre;overflow-x:auto;line-height:normal;font-family:Menlo,'DejaVu Sans Mono',consolas,'Courier New',monospace\"><span style=\"color: #7fbfbf; text-decoration-color: #7fbfbf\">[16:39:22] </span><span style=\"color: #000080; text-decoration-color: #000080\">INFO    </span> HTTP Request: <span style=\"color: #808000; text-decoration-color: #808000; font-weight: bold\">POST</span>                                                              <a href=\"file:///Users/aditisaluja/Desktop/sdg_hub/.venv_sdg/lib/python3.9/site-packages/httpx/_client.py\" target=\"_blank\"><span style=\"color: #7f7f7f; text-decoration-color: #7f7f7f\">_client.py</span></a><span style=\"color: #7f7f7f; text-decoration-color: #7f7f7f\">:</span><a href=\"file:///Users/aditisaluja/Desktop/sdg_hub/.venv_sdg/lib/python3.9/site-packages/httpx/_client.py#1025\" target=\"_blank\"><span style=\"color: #7f7f7f; text-decoration-color: #7f7f7f\">1025</span></a>\n",
       "<span style=\"color: #7fbfbf; text-decoration-color: #7fbfbf\">           </span>         <span style=\"color: #0000ff; text-decoration-color: #0000ff; text-decoration: underline\">https://phi-4-maas-apicast-production.apps.prod.rhoai.rh-aiservices-bu.com/v1/c</span> <span style=\"color: #7f7f7f; text-decoration-color: #7f7f7f\">               </span>\n",
       "<span style=\"color: #7fbfbf; text-decoration-color: #7fbfbf\">           </span>         <span style=\"color: #0000ff; text-decoration-color: #0000ff; text-decoration: underline\">ompletions</span> <span style=\"color: #008000; text-decoration-color: #008000\">\"HTTP/1.1 200 OK\"</span>                                                    <span style=\"color: #7f7f7f; text-decoration-color: #7f7f7f\">               </span>\n",
       "</pre>\n"
      ],
      "text/plain": [
       "\u001b[2;36m[16:39:22]\u001b[0m\u001b[2;36m \u001b[0m\u001b[34mINFO    \u001b[0m HTTP Request: \u001b[1;33mPOST\u001b[0m                                                              \u001b]8;id=603727;file:///Users/aditisaluja/Desktop/sdg_hub/.venv_sdg/lib/python3.9/site-packages/httpx/_client.py\u001b\\\u001b[2m_client.py\u001b[0m\u001b]8;;\u001b\\\u001b[2m:\u001b[0m\u001b]8;id=398023;file:///Users/aditisaluja/Desktop/sdg_hub/.venv_sdg/lib/python3.9/site-packages/httpx/_client.py#1025\u001b\\\u001b[2m1025\u001b[0m\u001b]8;;\u001b\\\n",
       "\u001b[2;36m           \u001b[0m         \u001b[4;94mhttps://phi-4-maas-apicast-production.apps.prod.rhoai.rh-aiservices-bu.com/v1/c\u001b[0m \u001b[2m               \u001b[0m\n",
       "\u001b[2;36m           \u001b[0m         \u001b[4;94mompletions\u001b[0m \u001b[32m\"HTTP/1.1 200 OK\"\u001b[0m                                                    \u001b[2m               \u001b[0m\n"
      ]
     },
     "metadata": {},
     "output_type": "display_data"
    },
    {
     "data": {
      "text/html": [
       "<pre style=\"white-space:pre;overflow-x:auto;line-height:normal;font-family:Menlo,'DejaVu Sans Mono',consolas,'Courier New',monospace\"><span style=\"font-style: italic\">                                      Output Block 2/13: gen_detailed_summary                                      </span>\n",
       "┏━━━━━━━━━┳━━━━━━━━━━━━━━━━━━━━━━━━━━━━━━━━━━━━━━━━━━━━━━━━━━━━━━━━━━━━━━━━━━━━━━━━━━━━━━━━━━━━━━━━━━━━━━━━━━━━━━━┓\n",
       "┃<span style=\"font-weight: bold\"> Metric  </span>┃<span style=\"font-weight: bold\"> Value                                                                                                 </span>┃\n",
       "┡━━━━━━━━━╇━━━━━━━━━━━━━━━━━━━━━━━━━━━━━━━━━━━━━━━━━━━━━━━━━━━━━━━━━━━━━━━━━━━━━━━━━━━━━━━━━━━━━━━━━━━━━━━━━━━━━━━┩\n",
       "│<span style=\"color: #008080; text-decoration-color: #008080\"> Rows    </span>│<span style=\"color: #800080; text-decoration-color: #800080\"> 1                                                                                                     </span>│\n",
       "│<span style=\"color: #008080; text-decoration-color: #008080\"> Columns </span>│<span style=\"color: #800080; text-decoration-color: #800080\"> document_outline, document_title, domain, icl_document, icl_query_1, icl_response_1, icl_query_2,     </span>│\n",
       "│<span style=\"color: #008080; text-decoration-color: #008080\">         </span>│<span style=\"color: #800080; text-decoration-color: #800080\"> icl_response_2, icl_query_3, icl_response_3, document, base_document, summary_detailed                </span>│\n",
       "└─────────┴───────────────────────────────────────────────────────────────────────────────────────────────────────┘\n",
       "</pre>\n"
      ],
      "text/plain": [
       "\u001b[3m                                      Output Block 2/13: gen_detailed_summary                                      \u001b[0m\n",
       "┏━━━━━━━━━┳━━━━━━━━━━━━━━━━━━━━━━━━━━━━━━━━━━━━━━━━━━━━━━━━━━━━━━━━━━━━━━━━━━━━━━━━━━━━━━━━━━━━━━━━━━━━━━━━━━━━━━━┓\n",
       "┃\u001b[1m \u001b[0m\u001b[1mMetric \u001b[0m\u001b[1m \u001b[0m┃\u001b[1m \u001b[0m\u001b[1mValue                                                                                                \u001b[0m\u001b[1m \u001b[0m┃\n",
       "┡━━━━━━━━━╇━━━━━━━━━━━━━━━━━━━━━━━━━━━━━━━━━━━━━━━━━━━━━━━━━━━━━━━━━━━━━━━━━━━━━━━━━━━━━━━━━━━━━━━━━━━━━━━━━━━━━━━┩\n",
       "│\u001b[36m \u001b[0m\u001b[36mRows   \u001b[0m\u001b[36m \u001b[0m│\u001b[35m \u001b[0m\u001b[35m1                                                                                                    \u001b[0m\u001b[35m \u001b[0m│\n",
       "│\u001b[36m \u001b[0m\u001b[36mColumns\u001b[0m\u001b[36m \u001b[0m│\u001b[35m \u001b[0m\u001b[35mdocument_outline, document_title, domain, icl_document, icl_query_1, icl_response_1, icl_query_2,    \u001b[0m\u001b[35m \u001b[0m│\n",
       "│\u001b[36m         \u001b[0m│\u001b[35m \u001b[0m\u001b[35micl_response_2, icl_query_3, icl_response_3, document, base_document, summary_detailed               \u001b[0m\u001b[35m \u001b[0m│\n",
       "└─────────┴───────────────────────────────────────────────────────────────────────────────────────────────────────┘\n"
      ]
     },
     "metadata": {},
     "output_type": "display_data"
    },
    {
     "data": {
      "text/html": [
       "<pre style=\"white-space:pre;overflow-x:auto;line-height:normal;font-family:Menlo,'DejaVu Sans Mono',consolas,'Courier New',monospace\"><span style=\"color: #7fbfbf; text-decoration-color: #7fbfbf\">           </span><span style=\"color: #000080; text-decoration-color: #000080\">INFO    </span> 🔄 Running block <span style=\"color: #008080; text-decoration-color: #008080; font-weight: bold\">3</span>/<span style=\"color: #008080; text-decoration-color: #008080; font-weight: bold\">13</span>: gen_atomic_facts                                             <a href=\"file:///Users/aditisaluja/Desktop/sdg_hub/.venv_sdg/lib/python3.9/site-packages/sdg_hub/flow.py\" target=\"_blank\"><span style=\"color: #7f7f7f; text-decoration-color: #7f7f7f\">flow.py</span></a><span style=\"color: #7f7f7f; text-decoration-color: #7f7f7f\">:</span><a href=\"file:///Users/aditisaluja/Desktop/sdg_hub/.venv_sdg/lib/python3.9/site-packages/sdg_hub/flow.py#205\" target=\"_blank\"><span style=\"color: #7f7f7f; text-decoration-color: #7f7f7f\">205</span></a>\n",
       "</pre>\n"
      ],
      "text/plain": [
       "\u001b[2;36m          \u001b[0m\u001b[2;36m \u001b[0m\u001b[34mINFO    \u001b[0m 🔄 Running block \u001b[1;36m3\u001b[0m/\u001b[1;36m13\u001b[0m: gen_atomic_facts                                             \u001b]8;id=237077;file:///Users/aditisaluja/Desktop/sdg_hub/.venv_sdg/lib/python3.9/site-packages/sdg_hub/flow.py\u001b\\\u001b[2mflow.py\u001b[0m\u001b]8;;\u001b\\\u001b[2m:\u001b[0m\u001b]8;id=615944;file:///Users/aditisaluja/Desktop/sdg_hub/.venv_sdg/lib/python3.9/site-packages/sdg_hub/flow.py#205\u001b\\\u001b[2m205\u001b[0m\u001b]8;;\u001b\\\n"
      ]
     },
     "metadata": {},
     "output_type": "display_data"
    },
    {
     "data": {
      "text/html": [
       "<pre style=\"white-space:pre;overflow-x:auto;line-height:normal;font-family:Menlo,'DejaVu Sans Mono',consolas,'Courier New',monospace\"><span style=\"font-style: italic\">                                        Input Block 3/13: gen_atomic_facts                                         </span>\n",
       "┏━━━━━━━━━┳━━━━━━━━━━━━━━━━━━━━━━━━━━━━━━━━━━━━━━━━━━━━━━━━━━━━━━━━━━━━━━━━━━━━━━━━━━━━━━━━━━━━━━━━━━━━━━━━━━━━━━━┓\n",
       "┃<span style=\"font-weight: bold\"> Metric  </span>┃<span style=\"font-weight: bold\"> Value                                                                                                 </span>┃\n",
       "┡━━━━━━━━━╇━━━━━━━━━━━━━━━━━━━━━━━━━━━━━━━━━━━━━━━━━━━━━━━━━━━━━━━━━━━━━━━━━━━━━━━━━━━━━━━━━━━━━━━━━━━━━━━━━━━━━━━┩\n",
       "│<span style=\"color: #008080; text-decoration-color: #008080\"> Rows    </span>│<span style=\"color: #800080; text-decoration-color: #800080\"> 1                                                                                                     </span>│\n",
       "│<span style=\"color: #008080; text-decoration-color: #008080\"> Columns </span>│<span style=\"color: #800080; text-decoration-color: #800080\"> document_outline, document_title, domain, icl_document, icl_query_1, icl_response_1, icl_query_2,     </span>│\n",
       "│<span style=\"color: #008080; text-decoration-color: #008080\">         </span>│<span style=\"color: #800080; text-decoration-color: #800080\"> icl_response_2, icl_query_3, icl_response_3, document, base_document, summary_detailed                </span>│\n",
       "└─────────┴───────────────────────────────────────────────────────────────────────────────────────────────────────┘\n",
       "</pre>\n"
      ],
      "text/plain": [
       "\u001b[3m                                        Input Block 3/13: gen_atomic_facts                                         \u001b[0m\n",
       "┏━━━━━━━━━┳━━━━━━━━━━━━━━━━━━━━━━━━━━━━━━━━━━━━━━━━━━━━━━━━━━━━━━━━━━━━━━━━━━━━━━━━━━━━━━━━━━━━━━━━━━━━━━━━━━━━━━━┓\n",
       "┃\u001b[1m \u001b[0m\u001b[1mMetric \u001b[0m\u001b[1m \u001b[0m┃\u001b[1m \u001b[0m\u001b[1mValue                                                                                                \u001b[0m\u001b[1m \u001b[0m┃\n",
       "┡━━━━━━━━━╇━━━━━━━━━━━━━━━━━━━━━━━━━━━━━━━━━━━━━━━━━━━━━━━━━━━━━━━━━━━━━━━━━━━━━━━━━━━━━━━━━━━━━━━━━━━━━━━━━━━━━━━┩\n",
       "│\u001b[36m \u001b[0m\u001b[36mRows   \u001b[0m\u001b[36m \u001b[0m│\u001b[35m \u001b[0m\u001b[35m1                                                                                                    \u001b[0m\u001b[35m \u001b[0m│\n",
       "│\u001b[36m \u001b[0m\u001b[36mColumns\u001b[0m\u001b[36m \u001b[0m│\u001b[35m \u001b[0m\u001b[35mdocument_outline, document_title, domain, icl_document, icl_query_1, icl_response_1, icl_query_2,    \u001b[0m\u001b[35m \u001b[0m│\n",
       "│\u001b[36m         \u001b[0m│\u001b[35m \u001b[0m\u001b[35micl_response_2, icl_query_3, icl_response_3, document, base_document, summary_detailed               \u001b[0m\u001b[35m \u001b[0m│\n",
       "└─────────┴───────────────────────────────────────────────────────────────────────────────────────────────────────┘\n"
      ]
     },
     "metadata": {},
     "output_type": "display_data"
    },
    {
     "data": {
      "text/html": [
       "<pre style=\"white-space:pre;overflow-x:auto;line-height:normal;font-family:Menlo,'DejaVu Sans Mono',consolas,'Courier New',monospace\"><span style=\"color: #7fbfbf; text-decoration-color: #7fbfbf\">[16:39:44] </span><span style=\"color: #000080; text-decoration-color: #000080\">INFO    </span> HTTP Request: <span style=\"color: #808000; text-decoration-color: #808000; font-weight: bold\">POST</span>                                                              <a href=\"file:///Users/aditisaluja/Desktop/sdg_hub/.venv_sdg/lib/python3.9/site-packages/httpx/_client.py\" target=\"_blank\"><span style=\"color: #7f7f7f; text-decoration-color: #7f7f7f\">_client.py</span></a><span style=\"color: #7f7f7f; text-decoration-color: #7f7f7f\">:</span><a href=\"file:///Users/aditisaluja/Desktop/sdg_hub/.venv_sdg/lib/python3.9/site-packages/httpx/_client.py#1025\" target=\"_blank\"><span style=\"color: #7f7f7f; text-decoration-color: #7f7f7f\">1025</span></a>\n",
       "<span style=\"color: #7fbfbf; text-decoration-color: #7fbfbf\">           </span>         <span style=\"color: #0000ff; text-decoration-color: #0000ff; text-decoration: underline\">https://phi-4-maas-apicast-production.apps.prod.rhoai.rh-aiservices-bu.com/v1/c</span> <span style=\"color: #7f7f7f; text-decoration-color: #7f7f7f\">               </span>\n",
       "<span style=\"color: #7fbfbf; text-decoration-color: #7fbfbf\">           </span>         <span style=\"color: #0000ff; text-decoration-color: #0000ff; text-decoration: underline\">ompletions</span> <span style=\"color: #008000; text-decoration-color: #008000\">\"HTTP/1.1 200 OK\"</span>                                                    <span style=\"color: #7f7f7f; text-decoration-color: #7f7f7f\">               </span>\n",
       "</pre>\n"
      ],
      "text/plain": [
       "\u001b[2;36m[16:39:44]\u001b[0m\u001b[2;36m \u001b[0m\u001b[34mINFO    \u001b[0m HTTP Request: \u001b[1;33mPOST\u001b[0m                                                              \u001b]8;id=207874;file:///Users/aditisaluja/Desktop/sdg_hub/.venv_sdg/lib/python3.9/site-packages/httpx/_client.py\u001b\\\u001b[2m_client.py\u001b[0m\u001b]8;;\u001b\\\u001b[2m:\u001b[0m\u001b]8;id=614217;file:///Users/aditisaluja/Desktop/sdg_hub/.venv_sdg/lib/python3.9/site-packages/httpx/_client.py#1025\u001b\\\u001b[2m1025\u001b[0m\u001b]8;;\u001b\\\n",
       "\u001b[2;36m           \u001b[0m         \u001b[4;94mhttps://phi-4-maas-apicast-production.apps.prod.rhoai.rh-aiservices-bu.com/v1/c\u001b[0m \u001b[2m               \u001b[0m\n",
       "\u001b[2;36m           \u001b[0m         \u001b[4;94mompletions\u001b[0m \u001b[32m\"HTTP/1.1 200 OK\"\u001b[0m                                                    \u001b[2m               \u001b[0m\n"
      ]
     },
     "metadata": {},
     "output_type": "display_data"
    },
    {
     "data": {
      "text/html": [
       "<pre style=\"white-space:pre;overflow-x:auto;line-height:normal;font-family:Menlo,'DejaVu Sans Mono',consolas,'Courier New',monospace\"><span style=\"font-style: italic\">                                        Output Block 3/13: gen_atomic_facts                                        </span>\n",
       "┏━━━━━━━━━┳━━━━━━━━━━━━━━━━━━━━━━━━━━━━━━━━━━━━━━━━━━━━━━━━━━━━━━━━━━━━━━━━━━━━━━━━━━━━━━━━━━━━━━━━━━━━━━━━━━━━━━━┓\n",
       "┃<span style=\"font-weight: bold\"> Metric  </span>┃<span style=\"font-weight: bold\"> Value                                                                                                 </span>┃\n",
       "┡━━━━━━━━━╇━━━━━━━━━━━━━━━━━━━━━━━━━━━━━━━━━━━━━━━━━━━━━━━━━━━━━━━━━━━━━━━━━━━━━━━━━━━━━━━━━━━━━━━━━━━━━━━━━━━━━━━┩\n",
       "│<span style=\"color: #008080; text-decoration-color: #008080\"> Rows    </span>│<span style=\"color: #800080; text-decoration-color: #800080\"> 1                                                                                                     </span>│\n",
       "│<span style=\"color: #008080; text-decoration-color: #008080\"> Columns </span>│<span style=\"color: #800080; text-decoration-color: #800080\"> document_outline, document_title, domain, icl_document, icl_query_1, icl_response_1, icl_query_2,     </span>│\n",
       "│<span style=\"color: #008080; text-decoration-color: #008080\">         </span>│<span style=\"color: #800080; text-decoration-color: #800080\"> icl_response_2, icl_query_3, icl_response_3, document, base_document, summary_detailed,               </span>│\n",
       "│<span style=\"color: #008080; text-decoration-color: #008080\">         </span>│<span style=\"color: #800080; text-decoration-color: #800080\"> summary_atomic_facts                                                                                  </span>│\n",
       "└─────────┴───────────────────────────────────────────────────────────────────────────────────────────────────────┘\n",
       "</pre>\n"
      ],
      "text/plain": [
       "\u001b[3m                                        Output Block 3/13: gen_atomic_facts                                        \u001b[0m\n",
       "┏━━━━━━━━━┳━━━━━━━━━━━━━━━━━━━━━━━━━━━━━━━━━━━━━━━━━━━━━━━━━━━━━━━━━━━━━━━━━━━━━━━━━━━━━━━━━━━━━━━━━━━━━━━━━━━━━━━┓\n",
       "┃\u001b[1m \u001b[0m\u001b[1mMetric \u001b[0m\u001b[1m \u001b[0m┃\u001b[1m \u001b[0m\u001b[1mValue                                                                                                \u001b[0m\u001b[1m \u001b[0m┃\n",
       "┡━━━━━━━━━╇━━━━━━━━━━━━━━━━━━━━━━━━━━━━━━━━━━━━━━━━━━━━━━━━━━━━━━━━━━━━━━━━━━━━━━━━━━━━━━━━━━━━━━━━━━━━━━━━━━━━━━━┩\n",
       "│\u001b[36m \u001b[0m\u001b[36mRows   \u001b[0m\u001b[36m \u001b[0m│\u001b[35m \u001b[0m\u001b[35m1                                                                                                    \u001b[0m\u001b[35m \u001b[0m│\n",
       "│\u001b[36m \u001b[0m\u001b[36mColumns\u001b[0m\u001b[36m \u001b[0m│\u001b[35m \u001b[0m\u001b[35mdocument_outline, document_title, domain, icl_document, icl_query_1, icl_response_1, icl_query_2,    \u001b[0m\u001b[35m \u001b[0m│\n",
       "│\u001b[36m         \u001b[0m│\u001b[35m \u001b[0m\u001b[35micl_response_2, icl_query_3, icl_response_3, document, base_document, summary_detailed,              \u001b[0m\u001b[35m \u001b[0m│\n",
       "│\u001b[36m         \u001b[0m│\u001b[35m \u001b[0m\u001b[35msummary_atomic_facts                                                                                 \u001b[0m\u001b[35m \u001b[0m│\n",
       "└─────────┴───────────────────────────────────────────────────────────────────────────────────────────────────────┘\n"
      ]
     },
     "metadata": {},
     "output_type": "display_data"
    },
    {
     "data": {
      "text/html": [
       "<pre style=\"white-space:pre;overflow-x:auto;line-height:normal;font-family:Menlo,'DejaVu Sans Mono',consolas,'Courier New',monospace\"><span style=\"color: #7fbfbf; text-decoration-color: #7fbfbf\">           </span><span style=\"color: #000080; text-decoration-color: #000080\">INFO    </span> 🔄 Running block <span style=\"color: #008080; text-decoration-color: #008080; font-weight: bold\">4</span>/<span style=\"color: #008080; text-decoration-color: #008080; font-weight: bold\">13</span>: gen_extractive_summary                                       <a href=\"file:///Users/aditisaluja/Desktop/sdg_hub/.venv_sdg/lib/python3.9/site-packages/sdg_hub/flow.py\" target=\"_blank\"><span style=\"color: #7f7f7f; text-decoration-color: #7f7f7f\">flow.py</span></a><span style=\"color: #7f7f7f; text-decoration-color: #7f7f7f\">:</span><a href=\"file:///Users/aditisaluja/Desktop/sdg_hub/.venv_sdg/lib/python3.9/site-packages/sdg_hub/flow.py#205\" target=\"_blank\"><span style=\"color: #7f7f7f; text-decoration-color: #7f7f7f\">205</span></a>\n",
       "</pre>\n"
      ],
      "text/plain": [
       "\u001b[2;36m          \u001b[0m\u001b[2;36m \u001b[0m\u001b[34mINFO    \u001b[0m 🔄 Running block \u001b[1;36m4\u001b[0m/\u001b[1;36m13\u001b[0m: gen_extractive_summary                                       \u001b]8;id=584351;file:///Users/aditisaluja/Desktop/sdg_hub/.venv_sdg/lib/python3.9/site-packages/sdg_hub/flow.py\u001b\\\u001b[2mflow.py\u001b[0m\u001b]8;;\u001b\\\u001b[2m:\u001b[0m\u001b]8;id=491332;file:///Users/aditisaluja/Desktop/sdg_hub/.venv_sdg/lib/python3.9/site-packages/sdg_hub/flow.py#205\u001b\\\u001b[2m205\u001b[0m\u001b]8;;\u001b\\\n"
      ]
     },
     "metadata": {},
     "output_type": "display_data"
    },
    {
     "data": {
      "text/html": [
       "<pre style=\"white-space:pre;overflow-x:auto;line-height:normal;font-family:Menlo,'DejaVu Sans Mono',consolas,'Courier New',monospace\"><span style=\"font-style: italic\">                                     Input Block 4/13: gen_extractive_summary                                      </span>\n",
       "┏━━━━━━━━━┳━━━━━━━━━━━━━━━━━━━━━━━━━━━━━━━━━━━━━━━━━━━━━━━━━━━━━━━━━━━━━━━━━━━━━━━━━━━━━━━━━━━━━━━━━━━━━━━━━━━━━━━┓\n",
       "┃<span style=\"font-weight: bold\"> Metric  </span>┃<span style=\"font-weight: bold\"> Value                                                                                                 </span>┃\n",
       "┡━━━━━━━━━╇━━━━━━━━━━━━━━━━━━━━━━━━━━━━━━━━━━━━━━━━━━━━━━━━━━━━━━━━━━━━━━━━━━━━━━━━━━━━━━━━━━━━━━━━━━━━━━━━━━━━━━━┩\n",
       "│<span style=\"color: #008080; text-decoration-color: #008080\"> Rows    </span>│<span style=\"color: #800080; text-decoration-color: #800080\"> 1                                                                                                     </span>│\n",
       "│<span style=\"color: #008080; text-decoration-color: #008080\"> Columns </span>│<span style=\"color: #800080; text-decoration-color: #800080\"> document_outline, document_title, domain, icl_document, icl_query_1, icl_response_1, icl_query_2,     </span>│\n",
       "│<span style=\"color: #008080; text-decoration-color: #008080\">         </span>│<span style=\"color: #800080; text-decoration-color: #800080\"> icl_response_2, icl_query_3, icl_response_3, document, base_document, summary_detailed,               </span>│\n",
       "│<span style=\"color: #008080; text-decoration-color: #008080\">         </span>│<span style=\"color: #800080; text-decoration-color: #800080\"> summary_atomic_facts                                                                                  </span>│\n",
       "└─────────┴───────────────────────────────────────────────────────────────────────────────────────────────────────┘\n",
       "</pre>\n"
      ],
      "text/plain": [
       "\u001b[3m                                     Input Block 4/13: gen_extractive_summary                                      \u001b[0m\n",
       "┏━━━━━━━━━┳━━━━━━━━━━━━━━━━━━━━━━━━━━━━━━━━━━━━━━━━━━━━━━━━━━━━━━━━━━━━━━━━━━━━━━━━━━━━━━━━━━━━━━━━━━━━━━━━━━━━━━━┓\n",
       "┃\u001b[1m \u001b[0m\u001b[1mMetric \u001b[0m\u001b[1m \u001b[0m┃\u001b[1m \u001b[0m\u001b[1mValue                                                                                                \u001b[0m\u001b[1m \u001b[0m┃\n",
       "┡━━━━━━━━━╇━━━━━━━━━━━━━━━━━━━━━━━━━━━━━━━━━━━━━━━━━━━━━━━━━━━━━━━━━━━━━━━━━━━━━━━━━━━━━━━━━━━━━━━━━━━━━━━━━━━━━━━┩\n",
       "│\u001b[36m \u001b[0m\u001b[36mRows   \u001b[0m\u001b[36m \u001b[0m│\u001b[35m \u001b[0m\u001b[35m1                                                                                                    \u001b[0m\u001b[35m \u001b[0m│\n",
       "│\u001b[36m \u001b[0m\u001b[36mColumns\u001b[0m\u001b[36m \u001b[0m│\u001b[35m \u001b[0m\u001b[35mdocument_outline, document_title, domain, icl_document, icl_query_1, icl_response_1, icl_query_2,    \u001b[0m\u001b[35m \u001b[0m│\n",
       "│\u001b[36m         \u001b[0m│\u001b[35m \u001b[0m\u001b[35micl_response_2, icl_query_3, icl_response_3, document, base_document, summary_detailed,              \u001b[0m\u001b[35m \u001b[0m│\n",
       "│\u001b[36m         \u001b[0m│\u001b[35m \u001b[0m\u001b[35msummary_atomic_facts                                                                                 \u001b[0m\u001b[35m \u001b[0m│\n",
       "└─────────┴───────────────────────────────────────────────────────────────────────────────────────────────────────┘\n"
      ]
     },
     "metadata": {},
     "output_type": "display_data"
    },
    {
     "data": {
      "text/html": [
       "<pre style=\"white-space:pre;overflow-x:auto;line-height:normal;font-family:Menlo,'DejaVu Sans Mono',consolas,'Courier New',monospace\"><span style=\"color: #7fbfbf; text-decoration-color: #7fbfbf\">[16:40:01] </span><span style=\"color: #000080; text-decoration-color: #000080\">INFO    </span> HTTP Request: <span style=\"color: #808000; text-decoration-color: #808000; font-weight: bold\">POST</span>                                                              <a href=\"file:///Users/aditisaluja/Desktop/sdg_hub/.venv_sdg/lib/python3.9/site-packages/httpx/_client.py\" target=\"_blank\"><span style=\"color: #7f7f7f; text-decoration-color: #7f7f7f\">_client.py</span></a><span style=\"color: #7f7f7f; text-decoration-color: #7f7f7f\">:</span><a href=\"file:///Users/aditisaluja/Desktop/sdg_hub/.venv_sdg/lib/python3.9/site-packages/httpx/_client.py#1025\" target=\"_blank\"><span style=\"color: #7f7f7f; text-decoration-color: #7f7f7f\">1025</span></a>\n",
       "<span style=\"color: #7fbfbf; text-decoration-color: #7fbfbf\">           </span>         <span style=\"color: #0000ff; text-decoration-color: #0000ff; text-decoration: underline\">https://phi-4-maas-apicast-production.apps.prod.rhoai.rh-aiservices-bu.com/v1/c</span> <span style=\"color: #7f7f7f; text-decoration-color: #7f7f7f\">               </span>\n",
       "<span style=\"color: #7fbfbf; text-decoration-color: #7fbfbf\">           </span>         <span style=\"color: #0000ff; text-decoration-color: #0000ff; text-decoration: underline\">ompletions</span> <span style=\"color: #008000; text-decoration-color: #008000\">\"HTTP/1.1 200 OK\"</span>                                                    <span style=\"color: #7f7f7f; text-decoration-color: #7f7f7f\">               </span>\n",
       "</pre>\n"
      ],
      "text/plain": [
       "\u001b[2;36m[16:40:01]\u001b[0m\u001b[2;36m \u001b[0m\u001b[34mINFO    \u001b[0m HTTP Request: \u001b[1;33mPOST\u001b[0m                                                              \u001b]8;id=615096;file:///Users/aditisaluja/Desktop/sdg_hub/.venv_sdg/lib/python3.9/site-packages/httpx/_client.py\u001b\\\u001b[2m_client.py\u001b[0m\u001b]8;;\u001b\\\u001b[2m:\u001b[0m\u001b]8;id=724611;file:///Users/aditisaluja/Desktop/sdg_hub/.venv_sdg/lib/python3.9/site-packages/httpx/_client.py#1025\u001b\\\u001b[2m1025\u001b[0m\u001b]8;;\u001b\\\n",
       "\u001b[2;36m           \u001b[0m         \u001b[4;94mhttps://phi-4-maas-apicast-production.apps.prod.rhoai.rh-aiservices-bu.com/v1/c\u001b[0m \u001b[2m               \u001b[0m\n",
       "\u001b[2;36m           \u001b[0m         \u001b[4;94mompletions\u001b[0m \u001b[32m\"HTTP/1.1 200 OK\"\u001b[0m                                                    \u001b[2m               \u001b[0m\n"
      ]
     },
     "metadata": {},
     "output_type": "display_data"
    },
    {
     "data": {
      "text/html": [
       "<pre style=\"white-space:pre;overflow-x:auto;line-height:normal;font-family:Menlo,'DejaVu Sans Mono',consolas,'Courier New',monospace\"><span style=\"font-style: italic\">                                     Output Block 4/13: gen_extractive_summary                                     </span>\n",
       "┏━━━━━━━━━┳━━━━━━━━━━━━━━━━━━━━━━━━━━━━━━━━━━━━━━━━━━━━━━━━━━━━━━━━━━━━━━━━━━━━━━━━━━━━━━━━━━━━━━━━━━━━━━━━━━━━━━━┓\n",
       "┃<span style=\"font-weight: bold\"> Metric  </span>┃<span style=\"font-weight: bold\"> Value                                                                                                 </span>┃\n",
       "┡━━━━━━━━━╇━━━━━━━━━━━━━━━━━━━━━━━━━━━━━━━━━━━━━━━━━━━━━━━━━━━━━━━━━━━━━━━━━━━━━━━━━━━━━━━━━━━━━━━━━━━━━━━━━━━━━━━┩\n",
       "│<span style=\"color: #008080; text-decoration-color: #008080\"> Rows    </span>│<span style=\"color: #800080; text-decoration-color: #800080\"> 1                                                                                                     </span>│\n",
       "│<span style=\"color: #008080; text-decoration-color: #008080\"> Columns </span>│<span style=\"color: #800080; text-decoration-color: #800080\"> document_outline, document_title, domain, icl_document, icl_query_1, icl_response_1, icl_query_2,     </span>│\n",
       "│<span style=\"color: #008080; text-decoration-color: #008080\">         </span>│<span style=\"color: #800080; text-decoration-color: #800080\"> icl_response_2, icl_query_3, icl_response_3, document, base_document, summary_detailed,               </span>│\n",
       "│<span style=\"color: #008080; text-decoration-color: #008080\">         </span>│<span style=\"color: #800080; text-decoration-color: #800080\"> summary_atomic_facts, summary_extractive                                                              </span>│\n",
       "└─────────┴───────────────────────────────────────────────────────────────────────────────────────────────────────┘\n",
       "</pre>\n"
      ],
      "text/plain": [
       "\u001b[3m                                     Output Block 4/13: gen_extractive_summary                                     \u001b[0m\n",
       "┏━━━━━━━━━┳━━━━━━━━━━━━━━━━━━━━━━━━━━━━━━━━━━━━━━━━━━━━━━━━━━━━━━━━━━━━━━━━━━━━━━━━━━━━━━━━━━━━━━━━━━━━━━━━━━━━━━━┓\n",
       "┃\u001b[1m \u001b[0m\u001b[1mMetric \u001b[0m\u001b[1m \u001b[0m┃\u001b[1m \u001b[0m\u001b[1mValue                                                                                                \u001b[0m\u001b[1m \u001b[0m┃\n",
       "┡━━━━━━━━━╇━━━━━━━━━━━━━━━━━━━━━━━━━━━━━━━━━━━━━━━━━━━━━━━━━━━━━━━━━━━━━━━━━━━━━━━━━━━━━━━━━━━━━━━━━━━━━━━━━━━━━━━┩\n",
       "│\u001b[36m \u001b[0m\u001b[36mRows   \u001b[0m\u001b[36m \u001b[0m│\u001b[35m \u001b[0m\u001b[35m1                                                                                                    \u001b[0m\u001b[35m \u001b[0m│\n",
       "│\u001b[36m \u001b[0m\u001b[36mColumns\u001b[0m\u001b[36m \u001b[0m│\u001b[35m \u001b[0m\u001b[35mdocument_outline, document_title, domain, icl_document, icl_query_1, icl_response_1, icl_query_2,    \u001b[0m\u001b[35m \u001b[0m│\n",
       "│\u001b[36m         \u001b[0m│\u001b[35m \u001b[0m\u001b[35micl_response_2, icl_query_3, icl_response_3, document, base_document, summary_detailed,              \u001b[0m\u001b[35m \u001b[0m│\n",
       "│\u001b[36m         \u001b[0m│\u001b[35m \u001b[0m\u001b[35msummary_atomic_facts, summary_extractive                                                             \u001b[0m\u001b[35m \u001b[0m│\n",
       "└─────────┴───────────────────────────────────────────────────────────────────────────────────────────────────────┘\n"
      ]
     },
     "metadata": {},
     "output_type": "display_data"
    },
    {
     "data": {
      "text/html": [
       "<pre style=\"white-space:pre;overflow-x:auto;line-height:normal;font-family:Menlo,'DejaVu Sans Mono',consolas,'Courier New',monospace\"><span style=\"color: #7fbfbf; text-decoration-color: #7fbfbf\">           </span><span style=\"color: #000080; text-decoration-color: #000080\">INFO    </span> 🔄 Running block <span style=\"color: #008080; text-decoration-color: #008080; font-weight: bold\">5</span>/<span style=\"color: #008080; text-decoration-color: #008080; font-weight: bold\">13</span>: flatten_summary_columns                                      <a href=\"file:///Users/aditisaluja/Desktop/sdg_hub/.venv_sdg/lib/python3.9/site-packages/sdg_hub/flow.py\" target=\"_blank\"><span style=\"color: #7f7f7f; text-decoration-color: #7f7f7f\">flow.py</span></a><span style=\"color: #7f7f7f; text-decoration-color: #7f7f7f\">:</span><a href=\"file:///Users/aditisaluja/Desktop/sdg_hub/.venv_sdg/lib/python3.9/site-packages/sdg_hub/flow.py#205\" target=\"_blank\"><span style=\"color: #7f7f7f; text-decoration-color: #7f7f7f\">205</span></a>\n",
       "</pre>\n"
      ],
      "text/plain": [
       "\u001b[2;36m          \u001b[0m\u001b[2;36m \u001b[0m\u001b[34mINFO    \u001b[0m 🔄 Running block \u001b[1;36m5\u001b[0m/\u001b[1;36m13\u001b[0m: flatten_summary_columns                                      \u001b]8;id=628547;file:///Users/aditisaluja/Desktop/sdg_hub/.venv_sdg/lib/python3.9/site-packages/sdg_hub/flow.py\u001b\\\u001b[2mflow.py\u001b[0m\u001b]8;;\u001b\\\u001b[2m:\u001b[0m\u001b]8;id=744995;file:///Users/aditisaluja/Desktop/sdg_hub/.venv_sdg/lib/python3.9/site-packages/sdg_hub/flow.py#205\u001b\\\u001b[2m205\u001b[0m\u001b]8;;\u001b\\\n"
      ]
     },
     "metadata": {},
     "output_type": "display_data"
    },
    {
     "data": {
      "text/html": [
       "<pre style=\"white-space:pre;overflow-x:auto;line-height:normal;font-family:Menlo,'DejaVu Sans Mono',consolas,'Courier New',monospace\"><span style=\"font-style: italic\">                                     Input Block 5/13: flatten_summary_columns                                     </span>\n",
       "┏━━━━━━━━━┳━━━━━━━━━━━━━━━━━━━━━━━━━━━━━━━━━━━━━━━━━━━━━━━━━━━━━━━━━━━━━━━━━━━━━━━━━━━━━━━━━━━━━━━━━━━━━━━━━━━━━━━┓\n",
       "┃<span style=\"font-weight: bold\"> Metric  </span>┃<span style=\"font-weight: bold\"> Value                                                                                                 </span>┃\n",
       "┡━━━━━━━━━╇━━━━━━━━━━━━━━━━━━━━━━━━━━━━━━━━━━━━━━━━━━━━━━━━━━━━━━━━━━━━━━━━━━━━━━━━━━━━━━━━━━━━━━━━━━━━━━━━━━━━━━━┩\n",
       "│<span style=\"color: #008080; text-decoration-color: #008080\"> Rows    </span>│<span style=\"color: #800080; text-decoration-color: #800080\"> 1                                                                                                     </span>│\n",
       "│<span style=\"color: #008080; text-decoration-color: #008080\"> Columns </span>│<span style=\"color: #800080; text-decoration-color: #800080\"> document_outline, document_title, domain, icl_document, icl_query_1, icl_response_1, icl_query_2,     </span>│\n",
       "│<span style=\"color: #008080; text-decoration-color: #008080\">         </span>│<span style=\"color: #800080; text-decoration-color: #800080\"> icl_response_2, icl_query_3, icl_response_3, document, base_document, summary_detailed,               </span>│\n",
       "│<span style=\"color: #008080; text-decoration-color: #008080\">         </span>│<span style=\"color: #800080; text-decoration-color: #800080\"> summary_atomic_facts, summary_extractive                                                              </span>│\n",
       "└─────────┴───────────────────────────────────────────────────────────────────────────────────────────────────────┘\n",
       "</pre>\n"
      ],
      "text/plain": [
       "\u001b[3m                                     Input Block 5/13: flatten_summary_columns                                     \u001b[0m\n",
       "┏━━━━━━━━━┳━━━━━━━━━━━━━━━━━━━━━━━━━━━━━━━━━━━━━━━━━━━━━━━━━━━━━━━━━━━━━━━━━━━━━━━━━━━━━━━━━━━━━━━━━━━━━━━━━━━━━━━┓\n",
       "┃\u001b[1m \u001b[0m\u001b[1mMetric \u001b[0m\u001b[1m \u001b[0m┃\u001b[1m \u001b[0m\u001b[1mValue                                                                                                \u001b[0m\u001b[1m \u001b[0m┃\n",
       "┡━━━━━━━━━╇━━━━━━━━━━━━━━━━━━━━━━━━━━━━━━━━━━━━━━━━━━━━━━━━━━━━━━━━━━━━━━━━━━━━━━━━━━━━━━━━━━━━━━━━━━━━━━━━━━━━━━━┩\n",
       "│\u001b[36m \u001b[0m\u001b[36mRows   \u001b[0m\u001b[36m \u001b[0m│\u001b[35m \u001b[0m\u001b[35m1                                                                                                    \u001b[0m\u001b[35m \u001b[0m│\n",
       "│\u001b[36m \u001b[0m\u001b[36mColumns\u001b[0m\u001b[36m \u001b[0m│\u001b[35m \u001b[0m\u001b[35mdocument_outline, document_title, domain, icl_document, icl_query_1, icl_response_1, icl_query_2,    \u001b[0m\u001b[35m \u001b[0m│\n",
       "│\u001b[36m         \u001b[0m│\u001b[35m \u001b[0m\u001b[35micl_response_2, icl_query_3, icl_response_3, document, base_document, summary_detailed,              \u001b[0m\u001b[35m \u001b[0m│\n",
       "│\u001b[36m         \u001b[0m│\u001b[35m \u001b[0m\u001b[35msummary_atomic_facts, summary_extractive                                                             \u001b[0m\u001b[35m \u001b[0m│\n",
       "└─────────┴───────────────────────────────────────────────────────────────────────────────────────────────────────┘\n"
      ]
     },
     "metadata": {},
     "output_type": "display_data"
    },
    {
     "data": {
      "text/html": [
       "<pre style=\"white-space:pre;overflow-x:auto;line-height:normal;font-family:Menlo,'DejaVu Sans Mono',consolas,'Courier New',monospace\"><span style=\"font-style: italic\">                                    Output Block 5/13: flatten_summary_columns                                     </span>\n",
       "┏━━━━━━━━━┳━━━━━━━━━━━━━━━━━━━━━━━━━━━━━━━━━━━━━━━━━━━━━━━━━━━━━━━━━━━━━━━━━━━━━━━━━━━━━━━━━━━━━━━━━━━━━━━━━━━━━━━┓\n",
       "┃<span style=\"font-weight: bold\"> Metric  </span>┃<span style=\"font-weight: bold\"> Value                                                                                                 </span>┃\n",
       "┡━━━━━━━━━╇━━━━━━━━━━━━━━━━━━━━━━━━━━━━━━━━━━━━━━━━━━━━━━━━━━━━━━━━━━━━━━━━━━━━━━━━━━━━━━━━━━━━━━━━━━━━━━━━━━━━━━━┩\n",
       "│<span style=\"color: #008080; text-decoration-color: #008080\"> Rows    </span>│<span style=\"color: #800080; text-decoration-color: #800080\"> 4                                                                                                     </span>│\n",
       "│<span style=\"color: #008080; text-decoration-color: #008080\"> Columns </span>│<span style=\"color: #800080; text-decoration-color: #800080\"> document_outline, document_title, domain, icl_document, icl_query_1, icl_response_1, icl_query_2,     </span>│\n",
       "│<span style=\"color: #008080; text-decoration-color: #008080\">         </span>│<span style=\"color: #800080; text-decoration-color: #800080\"> icl_response_2, icl_query_3, icl_response_3, document, dataset_type, summary                          </span>│\n",
       "└─────────┴───────────────────────────────────────────────────────────────────────────────────────────────────────┘\n",
       "</pre>\n"
      ],
      "text/plain": [
       "\u001b[3m                                    Output Block 5/13: flatten_summary_columns                                     \u001b[0m\n",
       "┏━━━━━━━━━┳━━━━━━━━━━━━━━━━━━━━━━━━━━━━━━━━━━━━━━━━━━━━━━━━━━━━━━━━━━━━━━━━━━━━━━━━━━━━━━━━━━━━━━━━━━━━━━━━━━━━━━━┓\n",
       "┃\u001b[1m \u001b[0m\u001b[1mMetric \u001b[0m\u001b[1m \u001b[0m┃\u001b[1m \u001b[0m\u001b[1mValue                                                                                                \u001b[0m\u001b[1m \u001b[0m┃\n",
       "┡━━━━━━━━━╇━━━━━━━━━━━━━━━━━━━━━━━━━━━━━━━━━━━━━━━━━━━━━━━━━━━━━━━━━━━━━━━━━━━━━━━━━━━━━━━━━━━━━━━━━━━━━━━━━━━━━━━┩\n",
       "│\u001b[36m \u001b[0m\u001b[36mRows   \u001b[0m\u001b[36m \u001b[0m│\u001b[35m \u001b[0m\u001b[35m4                                                                                                    \u001b[0m\u001b[35m \u001b[0m│\n",
       "│\u001b[36m \u001b[0m\u001b[36mColumns\u001b[0m\u001b[36m \u001b[0m│\u001b[35m \u001b[0m\u001b[35mdocument_outline, document_title, domain, icl_document, icl_query_1, icl_response_1, icl_query_2,    \u001b[0m\u001b[35m \u001b[0m│\n",
       "│\u001b[36m         \u001b[0m│\u001b[35m \u001b[0m\u001b[35micl_response_2, icl_query_3, icl_response_3, document, dataset_type, summary                         \u001b[0m\u001b[35m \u001b[0m│\n",
       "└─────────┴───────────────────────────────────────────────────────────────────────────────────────────────────────┘\n"
      ]
     },
     "metadata": {},
     "output_type": "display_data"
    },
    {
     "data": {
      "text/html": [
       "<pre style=\"white-space:pre;overflow-x:auto;line-height:normal;font-family:Menlo,'DejaVu Sans Mono',consolas,'Courier New',monospace\"><span style=\"color: #7fbfbf; text-decoration-color: #7fbfbf\">           </span><span style=\"color: #000080; text-decoration-color: #000080\">INFO    </span> 🔄 Running block <span style=\"color: #008080; text-decoration-color: #008080; font-weight: bold\">6</span>/<span style=\"color: #008080; text-decoration-color: #008080; font-weight: bold\">13</span>: rename_to_document_column                                    <a href=\"file:///Users/aditisaluja/Desktop/sdg_hub/.venv_sdg/lib/python3.9/site-packages/sdg_hub/flow.py\" target=\"_blank\"><span style=\"color: #7f7f7f; text-decoration-color: #7f7f7f\">flow.py</span></a><span style=\"color: #7f7f7f; text-decoration-color: #7f7f7f\">:</span><a href=\"file:///Users/aditisaluja/Desktop/sdg_hub/.venv_sdg/lib/python3.9/site-packages/sdg_hub/flow.py#205\" target=\"_blank\"><span style=\"color: #7f7f7f; text-decoration-color: #7f7f7f\">205</span></a>\n",
       "</pre>\n"
      ],
      "text/plain": [
       "\u001b[2;36m          \u001b[0m\u001b[2;36m \u001b[0m\u001b[34mINFO    \u001b[0m 🔄 Running block \u001b[1;36m6\u001b[0m/\u001b[1;36m13\u001b[0m: rename_to_document_column                                    \u001b]8;id=717688;file:///Users/aditisaluja/Desktop/sdg_hub/.venv_sdg/lib/python3.9/site-packages/sdg_hub/flow.py\u001b\\\u001b[2mflow.py\u001b[0m\u001b]8;;\u001b\\\u001b[2m:\u001b[0m\u001b]8;id=161917;file:///Users/aditisaluja/Desktop/sdg_hub/.venv_sdg/lib/python3.9/site-packages/sdg_hub/flow.py#205\u001b\\\u001b[2m205\u001b[0m\u001b]8;;\u001b\\\n"
      ]
     },
     "metadata": {},
     "output_type": "display_data"
    },
    {
     "data": {
      "text/html": [
       "<pre style=\"white-space:pre;overflow-x:auto;line-height:normal;font-family:Menlo,'DejaVu Sans Mono',consolas,'Courier New',monospace\"><span style=\"font-style: italic\">                                    Input Block 6/13: rename_to_document_column                                    </span>\n",
       "┏━━━━━━━━━┳━━━━━━━━━━━━━━━━━━━━━━━━━━━━━━━━━━━━━━━━━━━━━━━━━━━━━━━━━━━━━━━━━━━━━━━━━━━━━━━━━━━━━━━━━━━━━━━━━━━━━━━┓\n",
       "┃<span style=\"font-weight: bold\"> Metric  </span>┃<span style=\"font-weight: bold\"> Value                                                                                                 </span>┃\n",
       "┡━━━━━━━━━╇━━━━━━━━━━━━━━━━━━━━━━━━━━━━━━━━━━━━━━━━━━━━━━━━━━━━━━━━━━━━━━━━━━━━━━━━━━━━━━━━━━━━━━━━━━━━━━━━━━━━━━━┩\n",
       "│<span style=\"color: #008080; text-decoration-color: #008080\"> Rows    </span>│<span style=\"color: #800080; text-decoration-color: #800080\"> 4                                                                                                     </span>│\n",
       "│<span style=\"color: #008080; text-decoration-color: #008080\"> Columns </span>│<span style=\"color: #800080; text-decoration-color: #800080\"> document_outline, document_title, domain, icl_document, icl_query_1, icl_response_1, icl_query_2,     </span>│\n",
       "│<span style=\"color: #008080; text-decoration-color: #008080\">         </span>│<span style=\"color: #800080; text-decoration-color: #800080\"> icl_response_2, icl_query_3, icl_response_3, document, dataset_type, summary                          </span>│\n",
       "└─────────┴───────────────────────────────────────────────────────────────────────────────────────────────────────┘\n",
       "</pre>\n"
      ],
      "text/plain": [
       "\u001b[3m                                    Input Block 6/13: rename_to_document_column                                    \u001b[0m\n",
       "┏━━━━━━━━━┳━━━━━━━━━━━━━━━━━━━━━━━━━━━━━━━━━━━━━━━━━━━━━━━━━━━━━━━━━━━━━━━━━━━━━━━━━━━━━━━━━━━━━━━━━━━━━━━━━━━━━━━┓\n",
       "┃\u001b[1m \u001b[0m\u001b[1mMetric \u001b[0m\u001b[1m \u001b[0m┃\u001b[1m \u001b[0m\u001b[1mValue                                                                                                \u001b[0m\u001b[1m \u001b[0m┃\n",
       "┡━━━━━━━━━╇━━━━━━━━━━━━━━━━━━━━━━━━━━━━━━━━━━━━━━━━━━━━━━━━━━━━━━━━━━━━━━━━━━━━━━━━━━━━━━━━━━━━━━━━━━━━━━━━━━━━━━━┩\n",
       "│\u001b[36m \u001b[0m\u001b[36mRows   \u001b[0m\u001b[36m \u001b[0m│\u001b[35m \u001b[0m\u001b[35m4                                                                                                    \u001b[0m\u001b[35m \u001b[0m│\n",
       "│\u001b[36m \u001b[0m\u001b[36mColumns\u001b[0m\u001b[36m \u001b[0m│\u001b[35m \u001b[0m\u001b[35mdocument_outline, document_title, domain, icl_document, icl_query_1, icl_response_1, icl_query_2,    \u001b[0m\u001b[35m \u001b[0m│\n",
       "│\u001b[36m         \u001b[0m│\u001b[35m \u001b[0m\u001b[35micl_response_2, icl_query_3, icl_response_3, document, dataset_type, summary                         \u001b[0m\u001b[35m \u001b[0m│\n",
       "└─────────┴───────────────────────────────────────────────────────────────────────────────────────────────────────┘\n"
      ]
     },
     "metadata": {},
     "output_type": "display_data"
    },
    {
     "data": {
      "text/html": [
       "<pre style=\"white-space:pre;overflow-x:auto;line-height:normal;font-family:Menlo,'DejaVu Sans Mono',consolas,'Courier New',monospace\"><span style=\"font-style: italic\">                                   Output Block 6/13: rename_to_document_column                                    </span>\n",
       "┏━━━━━━━━━┳━━━━━━━━━━━━━━━━━━━━━━━━━━━━━━━━━━━━━━━━━━━━━━━━━━━━━━━━━━━━━━━━━━━━━━━━━━━━━━━━━━━━━━━━━━━━━━━━━━━━━━━┓\n",
       "┃<span style=\"font-weight: bold\"> Metric  </span>┃<span style=\"font-weight: bold\"> Value                                                                                                 </span>┃\n",
       "┡━━━━━━━━━╇━━━━━━━━━━━━━━━━━━━━━━━━━━━━━━━━━━━━━━━━━━━━━━━━━━━━━━━━━━━━━━━━━━━━━━━━━━━━━━━━━━━━━━━━━━━━━━━━━━━━━━━┩\n",
       "│<span style=\"color: #008080; text-decoration-color: #008080\"> Rows    </span>│<span style=\"color: #800080; text-decoration-color: #800080\"> 4                                                                                                     </span>│\n",
       "│<span style=\"color: #008080; text-decoration-color: #008080\"> Columns </span>│<span style=\"color: #800080; text-decoration-color: #800080\"> document_outline, document_title, domain, icl_document, icl_query_1, icl_response_1, icl_query_2,     </span>│\n",
       "│<span style=\"color: #008080; text-decoration-color: #008080\">         </span>│<span style=\"color: #800080; text-decoration-color: #800080\"> icl_response_2, icl_query_3, icl_response_3, raw_document, dataset_type, document                     </span>│\n",
       "└─────────┴───────────────────────────────────────────────────────────────────────────────────────────────────────┘\n",
       "</pre>\n"
      ],
      "text/plain": [
       "\u001b[3m                                   Output Block 6/13: rename_to_document_column                                    \u001b[0m\n",
       "┏━━━━━━━━━┳━━━━━━━━━━━━━━━━━━━━━━━━━━━━━━━━━━━━━━━━━━━━━━━━━━━━━━━━━━━━━━━━━━━━━━━━━━━━━━━━━━━━━━━━━━━━━━━━━━━━━━━┓\n",
       "┃\u001b[1m \u001b[0m\u001b[1mMetric \u001b[0m\u001b[1m \u001b[0m┃\u001b[1m \u001b[0m\u001b[1mValue                                                                                                \u001b[0m\u001b[1m \u001b[0m┃\n",
       "┡━━━━━━━━━╇━━━━━━━━━━━━━━━━━━━━━━━━━━━━━━━━━━━━━━━━━━━━━━━━━━━━━━━━━━━━━━━━━━━━━━━━━━━━━━━━━━━━━━━━━━━━━━━━━━━━━━━┩\n",
       "│\u001b[36m \u001b[0m\u001b[36mRows   \u001b[0m\u001b[36m \u001b[0m│\u001b[35m \u001b[0m\u001b[35m4                                                                                                    \u001b[0m\u001b[35m \u001b[0m│\n",
       "│\u001b[36m \u001b[0m\u001b[36mColumns\u001b[0m\u001b[36m \u001b[0m│\u001b[35m \u001b[0m\u001b[35mdocument_outline, document_title, domain, icl_document, icl_query_1, icl_response_1, icl_query_2,    \u001b[0m\u001b[35m \u001b[0m│\n",
       "│\u001b[36m         \u001b[0m│\u001b[35m \u001b[0m\u001b[35micl_response_2, icl_query_3, icl_response_3, raw_document, dataset_type, document                    \u001b[0m\u001b[35m \u001b[0m│\n",
       "└─────────┴───────────────────────────────────────────────────────────────────────────────────────────────────────┘\n"
      ]
     },
     "metadata": {},
     "output_type": "display_data"
    },
    {
     "data": {
      "text/html": [
       "<pre style=\"white-space:pre;overflow-x:auto;line-height:normal;font-family:Menlo,'DejaVu Sans Mono',consolas,'Courier New',monospace\"><span style=\"color: #7fbfbf; text-decoration-color: #7fbfbf\">           </span><span style=\"color: #000080; text-decoration-color: #000080\">INFO    </span> 🔄 Running block <span style=\"color: #008080; text-decoration-color: #008080; font-weight: bold\">7</span>/<span style=\"color: #008080; text-decoration-color: #008080; font-weight: bold\">13</span>: knowledge generation                                         <a href=\"file:///Users/aditisaluja/Desktop/sdg_hub/.venv_sdg/lib/python3.9/site-packages/sdg_hub/flow.py\" target=\"_blank\"><span style=\"color: #7f7f7f; text-decoration-color: #7f7f7f\">flow.py</span></a><span style=\"color: #7f7f7f; text-decoration-color: #7f7f7f\">:</span><a href=\"file:///Users/aditisaluja/Desktop/sdg_hub/.venv_sdg/lib/python3.9/site-packages/sdg_hub/flow.py#205\" target=\"_blank\"><span style=\"color: #7f7f7f; text-decoration-color: #7f7f7f\">205</span></a>\n",
       "</pre>\n"
      ],
      "text/plain": [
       "\u001b[2;36m          \u001b[0m\u001b[2;36m \u001b[0m\u001b[34mINFO    \u001b[0m 🔄 Running block \u001b[1;36m7\u001b[0m/\u001b[1;36m13\u001b[0m: knowledge generation                                         \u001b]8;id=327761;file:///Users/aditisaluja/Desktop/sdg_hub/.venv_sdg/lib/python3.9/site-packages/sdg_hub/flow.py\u001b\\\u001b[2mflow.py\u001b[0m\u001b]8;;\u001b\\\u001b[2m:\u001b[0m\u001b]8;id=382402;file:///Users/aditisaluja/Desktop/sdg_hub/.venv_sdg/lib/python3.9/site-packages/sdg_hub/flow.py#205\u001b\\\u001b[2m205\u001b[0m\u001b]8;;\u001b\\\n"
      ]
     },
     "metadata": {},
     "output_type": "display_data"
    },
    {
     "data": {
      "text/html": [
       "<pre style=\"white-space:pre;overflow-x:auto;line-height:normal;font-family:Menlo,'DejaVu Sans Mono',consolas,'Courier New',monospace\"><span style=\"font-style: italic\">                                      Input Block 7/13: knowledge generation                                       </span>\n",
       "┏━━━━━━━━━┳━━━━━━━━━━━━━━━━━━━━━━━━━━━━━━━━━━━━━━━━━━━━━━━━━━━━━━━━━━━━━━━━━━━━━━━━━━━━━━━━━━━━━━━━━━━━━━━━━━━━━━━┓\n",
       "┃<span style=\"font-weight: bold\"> Metric  </span>┃<span style=\"font-weight: bold\"> Value                                                                                                 </span>┃\n",
       "┡━━━━━━━━━╇━━━━━━━━━━━━━━━━━━━━━━━━━━━━━━━━━━━━━━━━━━━━━━━━━━━━━━━━━━━━━━━━━━━━━━━━━━━━━━━━━━━━━━━━━━━━━━━━━━━━━━━┩\n",
       "│<span style=\"color: #008080; text-decoration-color: #008080\"> Rows    </span>│<span style=\"color: #800080; text-decoration-color: #800080\"> 4                                                                                                     </span>│\n",
       "│<span style=\"color: #008080; text-decoration-color: #008080\"> Columns </span>│<span style=\"color: #800080; text-decoration-color: #800080\"> document_outline, document_title, domain, icl_document, icl_query_1, icl_response_1, icl_query_2,     </span>│\n",
       "│<span style=\"color: #008080; text-decoration-color: #008080\">         </span>│<span style=\"color: #800080; text-decoration-color: #800080\"> icl_response_2, icl_query_3, icl_response_3, raw_document, dataset_type, document                     </span>│\n",
       "└─────────┴───────────────────────────────────────────────────────────────────────────────────────────────────────┘\n",
       "</pre>\n"
      ],
      "text/plain": [
       "\u001b[3m                                      Input Block 7/13: knowledge generation                                       \u001b[0m\n",
       "┏━━━━━━━━━┳━━━━━━━━━━━━━━━━━━━━━━━━━━━━━━━━━━━━━━━━━━━━━━━━━━━━━━━━━━━━━━━━━━━━━━━━━━━━━━━━━━━━━━━━━━━━━━━━━━━━━━━┓\n",
       "┃\u001b[1m \u001b[0m\u001b[1mMetric \u001b[0m\u001b[1m \u001b[0m┃\u001b[1m \u001b[0m\u001b[1mValue                                                                                                \u001b[0m\u001b[1m \u001b[0m┃\n",
       "┡━━━━━━━━━╇━━━━━━━━━━━━━━━━━━━━━━━━━━━━━━━━━━━━━━━━━━━━━━━━━━━━━━━━━━━━━━━━━━━━━━━━━━━━━━━━━━━━━━━━━━━━━━━━━━━━━━━┩\n",
       "│\u001b[36m \u001b[0m\u001b[36mRows   \u001b[0m\u001b[36m \u001b[0m│\u001b[35m \u001b[0m\u001b[35m4                                                                                                    \u001b[0m\u001b[35m \u001b[0m│\n",
       "│\u001b[36m \u001b[0m\u001b[36mColumns\u001b[0m\u001b[36m \u001b[0m│\u001b[35m \u001b[0m\u001b[35mdocument_outline, document_title, domain, icl_document, icl_query_1, icl_response_1, icl_query_2,    \u001b[0m\u001b[35m \u001b[0m│\n",
       "│\u001b[36m         \u001b[0m│\u001b[35m \u001b[0m\u001b[35micl_response_2, icl_query_3, icl_response_3, raw_document, dataset_type, document                    \u001b[0m\u001b[35m \u001b[0m│\n",
       "└─────────┴───────────────────────────────────────────────────────────────────────────────────────────────────────┘\n"
      ]
     },
     "metadata": {},
     "output_type": "display_data"
    },
    {
     "data": {
      "text/html": [
       "<pre style=\"white-space:pre;overflow-x:auto;line-height:normal;font-family:Menlo,'DejaVu Sans Mono',consolas,'Courier New',monospace\"><span style=\"color: #7fbfbf; text-decoration-color: #7fbfbf\">[16:40:35] </span><span style=\"color: #000080; text-decoration-color: #000080\">INFO    </span> HTTP Request: <span style=\"color: #808000; text-decoration-color: #808000; font-weight: bold\">POST</span>                                                              <a href=\"file:///Users/aditisaluja/Desktop/sdg_hub/.venv_sdg/lib/python3.9/site-packages/httpx/_client.py\" target=\"_blank\"><span style=\"color: #7f7f7f; text-decoration-color: #7f7f7f\">_client.py</span></a><span style=\"color: #7f7f7f; text-decoration-color: #7f7f7f\">:</span><a href=\"file:///Users/aditisaluja/Desktop/sdg_hub/.venv_sdg/lib/python3.9/site-packages/httpx/_client.py#1025\" target=\"_blank\"><span style=\"color: #7f7f7f; text-decoration-color: #7f7f7f\">1025</span></a>\n",
       "<span style=\"color: #7fbfbf; text-decoration-color: #7fbfbf\">           </span>         <span style=\"color: #0000ff; text-decoration-color: #0000ff; text-decoration: underline\">https://phi-4-maas-apicast-production.apps.prod.rhoai.rh-aiservices-bu.com/v1/c</span> <span style=\"color: #7f7f7f; text-decoration-color: #7f7f7f\">               </span>\n",
       "<span style=\"color: #7fbfbf; text-decoration-color: #7fbfbf\">           </span>         <span style=\"color: #0000ff; text-decoration-color: #0000ff; text-decoration: underline\">ompletions</span> <span style=\"color: #008000; text-decoration-color: #008000\">\"HTTP/1.1 200 OK\"</span>                                                    <span style=\"color: #7f7f7f; text-decoration-color: #7f7f7f\">               </span>\n",
       "</pre>\n"
      ],
      "text/plain": [
       "\u001b[2;36m[16:40:35]\u001b[0m\u001b[2;36m \u001b[0m\u001b[34mINFO    \u001b[0m HTTP Request: \u001b[1;33mPOST\u001b[0m                                                              \u001b]8;id=300913;file:///Users/aditisaluja/Desktop/sdg_hub/.venv_sdg/lib/python3.9/site-packages/httpx/_client.py\u001b\\\u001b[2m_client.py\u001b[0m\u001b]8;;\u001b\\\u001b[2m:\u001b[0m\u001b]8;id=579046;file:///Users/aditisaluja/Desktop/sdg_hub/.venv_sdg/lib/python3.9/site-packages/httpx/_client.py#1025\u001b\\\u001b[2m1025\u001b[0m\u001b]8;;\u001b\\\n",
       "\u001b[2;36m           \u001b[0m         \u001b[4;94mhttps://phi-4-maas-apicast-production.apps.prod.rhoai.rh-aiservices-bu.com/v1/c\u001b[0m \u001b[2m               \u001b[0m\n",
       "\u001b[2;36m           \u001b[0m         \u001b[4;94mompletions\u001b[0m \u001b[32m\"HTTP/1.1 200 OK\"\u001b[0m                                                    \u001b[2m               \u001b[0m\n"
      ]
     },
     "metadata": {},
     "output_type": "display_data"
    },
    {
     "data": {
      "text/html": [
       "<pre style=\"white-space:pre;overflow-x:auto;line-height:normal;font-family:Menlo,'DejaVu Sans Mono',consolas,'Courier New',monospace\"><span style=\"font-style: italic\">                                      Output Block 7/13: knowledge generation                                      </span>\n",
       "┏━━━━━━━━━┳━━━━━━━━━━━━━━━━━━━━━━━━━━━━━━━━━━━━━━━━━━━━━━━━━━━━━━━━━━━━━━━━━━━━━━━━━━━━━━━━━━━━━━━━━━━━━━━━━━━━━━━┓\n",
       "┃<span style=\"font-weight: bold\"> Metric  </span>┃<span style=\"font-weight: bold\"> Value                                                                                                 </span>┃\n",
       "┡━━━━━━━━━╇━━━━━━━━━━━━━━━━━━━━━━━━━━━━━━━━━━━━━━━━━━━━━━━━━━━━━━━━━━━━━━━━━━━━━━━━━━━━━━━━━━━━━━━━━━━━━━━━━━━━━━━┩\n",
       "│<span style=\"color: #008080; text-decoration-color: #008080\"> Rows    </span>│<span style=\"color: #800080; text-decoration-color: #800080\"> 25                                                                                                    </span>│\n",
       "│<span style=\"color: #008080; text-decoration-color: #008080\"> Columns </span>│<span style=\"color: #800080; text-decoration-color: #800080\"> document_outline, document_title, domain, icl_document, icl_query_1, icl_response_1, icl_query_2,     </span>│\n",
       "│<span style=\"color: #008080; text-decoration-color: #008080\">         </span>│<span style=\"color: #800080; text-decoration-color: #800080\"> icl_response_2, icl_query_3, icl_response_3, raw_document, dataset_type, document, question, response </span>│\n",
       "└─────────┴───────────────────────────────────────────────────────────────────────────────────────────────────────┘\n",
       "</pre>\n"
      ],
      "text/plain": [
       "\u001b[3m                                      Output Block 7/13: knowledge generation                                      \u001b[0m\n",
       "┏━━━━━━━━━┳━━━━━━━━━━━━━━━━━━━━━━━━━━━━━━━━━━━━━━━━━━━━━━━━━━━━━━━━━━━━━━━━━━━━━━━━━━━━━━━━━━━━━━━━━━━━━━━━━━━━━━━┓\n",
       "┃\u001b[1m \u001b[0m\u001b[1mMetric \u001b[0m\u001b[1m \u001b[0m┃\u001b[1m \u001b[0m\u001b[1mValue                                                                                                \u001b[0m\u001b[1m \u001b[0m┃\n",
       "┡━━━━━━━━━╇━━━━━━━━━━━━━━━━━━━━━━━━━━━━━━━━━━━━━━━━━━━━━━━━━━━━━━━━━━━━━━━━━━━━━━━━━━━━━━━━━━━━━━━━━━━━━━━━━━━━━━━┩\n",
       "│\u001b[36m \u001b[0m\u001b[36mRows   \u001b[0m\u001b[36m \u001b[0m│\u001b[35m \u001b[0m\u001b[35m25                                                                                                   \u001b[0m\u001b[35m \u001b[0m│\n",
       "│\u001b[36m \u001b[0m\u001b[36mColumns\u001b[0m\u001b[36m \u001b[0m│\u001b[35m \u001b[0m\u001b[35mdocument_outline, document_title, domain, icl_document, icl_query_1, icl_response_1, icl_query_2,    \u001b[0m\u001b[35m \u001b[0m│\n",
       "│\u001b[36m         \u001b[0m│\u001b[35m \u001b[0m\u001b[35micl_response_2, icl_query_3, icl_response_3, raw_document, dataset_type, document, question, response\u001b[0m\u001b[35m \u001b[0m│\n",
       "└─────────┴───────────────────────────────────────────────────────────────────────────────────────────────────────┘\n"
      ]
     },
     "metadata": {},
     "output_type": "display_data"
    },
    {
     "data": {
      "text/html": [
       "<pre style=\"white-space:pre;overflow-x:auto;line-height:normal;font-family:Menlo,'DejaVu Sans Mono',consolas,'Courier New',monospace\"><span style=\"color: #7fbfbf; text-decoration-color: #7fbfbf\">           </span><span style=\"color: #000080; text-decoration-color: #000080\">INFO    </span> 🔄 Running block <span style=\"color: #008080; text-decoration-color: #008080; font-weight: bold\">8</span>/<span style=\"color: #008080; text-decoration-color: #008080; font-weight: bold\">13</span>: eval_faithfulness_qa_pair                                    <a href=\"file:///Users/aditisaluja/Desktop/sdg_hub/.venv_sdg/lib/python3.9/site-packages/sdg_hub/flow.py\" target=\"_blank\"><span style=\"color: #7f7f7f; text-decoration-color: #7f7f7f\">flow.py</span></a><span style=\"color: #7f7f7f; text-decoration-color: #7f7f7f\">:</span><a href=\"file:///Users/aditisaluja/Desktop/sdg_hub/.venv_sdg/lib/python3.9/site-packages/sdg_hub/flow.py#205\" target=\"_blank\"><span style=\"color: #7f7f7f; text-decoration-color: #7f7f7f\">205</span></a>\n",
       "</pre>\n"
      ],
      "text/plain": [
       "\u001b[2;36m          \u001b[0m\u001b[2;36m \u001b[0m\u001b[34mINFO    \u001b[0m 🔄 Running block \u001b[1;36m8\u001b[0m/\u001b[1;36m13\u001b[0m: eval_faithfulness_qa_pair                                    \u001b]8;id=442739;file:///Users/aditisaluja/Desktop/sdg_hub/.venv_sdg/lib/python3.9/site-packages/sdg_hub/flow.py\u001b\\\u001b[2mflow.py\u001b[0m\u001b]8;;\u001b\\\u001b[2m:\u001b[0m\u001b]8;id=942926;file:///Users/aditisaluja/Desktop/sdg_hub/.venv_sdg/lib/python3.9/site-packages/sdg_hub/flow.py#205\u001b\\\u001b[2m205\u001b[0m\u001b]8;;\u001b\\\n"
      ]
     },
     "metadata": {},
     "output_type": "display_data"
    },
    {
     "data": {
      "text/html": [
       "<pre style=\"white-space:pre;overflow-x:auto;line-height:normal;font-family:Menlo,'DejaVu Sans Mono',consolas,'Courier New',monospace\"><span style=\"font-style: italic\">                                    Input Block 8/13: eval_faithfulness_qa_pair                                    </span>\n",
       "┏━━━━━━━━━┳━━━━━━━━━━━━━━━━━━━━━━━━━━━━━━━━━━━━━━━━━━━━━━━━━━━━━━━━━━━━━━━━━━━━━━━━━━━━━━━━━━━━━━━━━━━━━━━━━━━━━━━┓\n",
       "┃<span style=\"font-weight: bold\"> Metric  </span>┃<span style=\"font-weight: bold\"> Value                                                                                                 </span>┃\n",
       "┡━━━━━━━━━╇━━━━━━━━━━━━━━━━━━━━━━━━━━━━━━━━━━━━━━━━━━━━━━━━━━━━━━━━━━━━━━━━━━━━━━━━━━━━━━━━━━━━━━━━━━━━━━━━━━━━━━━┩\n",
       "│<span style=\"color: #008080; text-decoration-color: #008080\"> Rows    </span>│<span style=\"color: #800080; text-decoration-color: #800080\"> 25                                                                                                    </span>│\n",
       "│<span style=\"color: #008080; text-decoration-color: #008080\"> Columns </span>│<span style=\"color: #800080; text-decoration-color: #800080\"> document_outline, document_title, domain, icl_document, icl_query_1, icl_response_1, icl_query_2,     </span>│\n",
       "│<span style=\"color: #008080; text-decoration-color: #008080\">         </span>│<span style=\"color: #800080; text-decoration-color: #800080\"> icl_response_2, icl_query_3, icl_response_3, raw_document, dataset_type, document, question, response </span>│\n",
       "└─────────┴───────────────────────────────────────────────────────────────────────────────────────────────────────┘\n",
       "</pre>\n"
      ],
      "text/plain": [
       "\u001b[3m                                    Input Block 8/13: eval_faithfulness_qa_pair                                    \u001b[0m\n",
       "┏━━━━━━━━━┳━━━━━━━━━━━━━━━━━━━━━━━━━━━━━━━━━━━━━━━━━━━━━━━━━━━━━━━━━━━━━━━━━━━━━━━━━━━━━━━━━━━━━━━━━━━━━━━━━━━━━━━┓\n",
       "┃\u001b[1m \u001b[0m\u001b[1mMetric \u001b[0m\u001b[1m \u001b[0m┃\u001b[1m \u001b[0m\u001b[1mValue                                                                                                \u001b[0m\u001b[1m \u001b[0m┃\n",
       "┡━━━━━━━━━╇━━━━━━━━━━━━━━━━━━━━━━━━━━━━━━━━━━━━━━━━━━━━━━━━━━━━━━━━━━━━━━━━━━━━━━━━━━━━━━━━━━━━━━━━━━━━━━━━━━━━━━━┩\n",
       "│\u001b[36m \u001b[0m\u001b[36mRows   \u001b[0m\u001b[36m \u001b[0m│\u001b[35m \u001b[0m\u001b[35m25                                                                                                   \u001b[0m\u001b[35m \u001b[0m│\n",
       "│\u001b[36m \u001b[0m\u001b[36mColumns\u001b[0m\u001b[36m \u001b[0m│\u001b[35m \u001b[0m\u001b[35mdocument_outline, document_title, domain, icl_document, icl_query_1, icl_response_1, icl_query_2,    \u001b[0m\u001b[35m \u001b[0m│\n",
       "│\u001b[36m         \u001b[0m│\u001b[35m \u001b[0m\u001b[35micl_response_2, icl_query_3, icl_response_3, raw_document, dataset_type, document, question, response\u001b[0m\u001b[35m \u001b[0m│\n",
       "└─────────┴───────────────────────────────────────────────────────────────────────────────────────────────────────┘\n"
      ]
     },
     "metadata": {},
     "output_type": "display_data"
    },
    {
     "data": {
      "text/html": [
       "<pre style=\"white-space:pre;overflow-x:auto;line-height:normal;font-family:Menlo,'DejaVu Sans Mono',consolas,'Courier New',monospace\"><span style=\"color: #7fbfbf; text-decoration-color: #7fbfbf\">[16:40:46] </span><span style=\"color: #000080; text-decoration-color: #000080\">INFO    </span> HTTP Request: <span style=\"color: #808000; text-decoration-color: #808000; font-weight: bold\">POST</span>                                                              <a href=\"file:///Users/aditisaluja/Desktop/sdg_hub/.venv_sdg/lib/python3.9/site-packages/httpx/_client.py\" target=\"_blank\"><span style=\"color: #7f7f7f; text-decoration-color: #7f7f7f\">_client.py</span></a><span style=\"color: #7f7f7f; text-decoration-color: #7f7f7f\">:</span><a href=\"file:///Users/aditisaluja/Desktop/sdg_hub/.venv_sdg/lib/python3.9/site-packages/httpx/_client.py#1025\" target=\"_blank\"><span style=\"color: #7f7f7f; text-decoration-color: #7f7f7f\">1025</span></a>\n",
       "<span style=\"color: #7fbfbf; text-decoration-color: #7fbfbf\">           </span>         <span style=\"color: #0000ff; text-decoration-color: #0000ff; text-decoration: underline\">https://phi-4-maas-apicast-production.apps.prod.rhoai.rh-aiservices-bu.com/v1/c</span> <span style=\"color: #7f7f7f; text-decoration-color: #7f7f7f\">               </span>\n",
       "<span style=\"color: #7fbfbf; text-decoration-color: #7fbfbf\">           </span>         <span style=\"color: #0000ff; text-decoration-color: #0000ff; text-decoration: underline\">ompletions</span> <span style=\"color: #008000; text-decoration-color: #008000\">\"HTTP/1.1 200 OK\"</span>                                                    <span style=\"color: #7f7f7f; text-decoration-color: #7f7f7f\">               </span>\n",
       "</pre>\n"
      ],
      "text/plain": [
       "\u001b[2;36m[16:40:46]\u001b[0m\u001b[2;36m \u001b[0m\u001b[34mINFO    \u001b[0m HTTP Request: \u001b[1;33mPOST\u001b[0m                                                              \u001b]8;id=765981;file:///Users/aditisaluja/Desktop/sdg_hub/.venv_sdg/lib/python3.9/site-packages/httpx/_client.py\u001b\\\u001b[2m_client.py\u001b[0m\u001b]8;;\u001b\\\u001b[2m:\u001b[0m\u001b]8;id=55122;file:///Users/aditisaluja/Desktop/sdg_hub/.venv_sdg/lib/python3.9/site-packages/httpx/_client.py#1025\u001b\\\u001b[2m1025\u001b[0m\u001b]8;;\u001b\\\n",
       "\u001b[2;36m           \u001b[0m         \u001b[4;94mhttps://phi-4-maas-apicast-production.apps.prod.rhoai.rh-aiservices-bu.com/v1/c\u001b[0m \u001b[2m               \u001b[0m\n",
       "\u001b[2;36m           \u001b[0m         \u001b[4;94mompletions\u001b[0m \u001b[32m\"HTTP/1.1 200 OK\"\u001b[0m                                                    \u001b[2m               \u001b[0m\n"
      ]
     },
     "metadata": {},
     "output_type": "display_data"
    },
    {
     "data": {
      "text/html": [
       "<pre style=\"white-space:pre;overflow-x:auto;line-height:normal;font-family:Menlo,'DejaVu Sans Mono',consolas,'Courier New',monospace\"><span style=\"font-style: italic\">                                   Output Block 8/13: eval_faithfulness_qa_pair                                    </span>\n",
       "┏━━━━━━━━━┳━━━━━━━━━━━━━━━━━━━━━━━━━━━━━━━━━━━━━━━━━━━━━━━━━━━━━━━━━━━━━━━━━━━━━━━━━━━━━━━━━━━━━━━━━━━━━━━━━━━━━━━┓\n",
       "┃<span style=\"font-weight: bold\"> Metric  </span>┃<span style=\"font-weight: bold\"> Value                                                                                                 </span>┃\n",
       "┡━━━━━━━━━╇━━━━━━━━━━━━━━━━━━━━━━━━━━━━━━━━━━━━━━━━━━━━━━━━━━━━━━━━━━━━━━━━━━━━━━━━━━━━━━━━━━━━━━━━━━━━━━━━━━━━━━━┩\n",
       "│<span style=\"color: #008080; text-decoration-color: #008080\"> Rows    </span>│<span style=\"color: #800080; text-decoration-color: #800080\"> 25                                                                                                    </span>│\n",
       "│<span style=\"color: #008080; text-decoration-color: #008080\"> Columns </span>│<span style=\"color: #800080; text-decoration-color: #800080\"> document_outline, document_title, domain, icl_document, icl_query_1, icl_response_1, icl_query_2,     </span>│\n",
       "│<span style=\"color: #008080; text-decoration-color: #008080\">         </span>│<span style=\"color: #800080; text-decoration-color: #800080\"> icl_response_2, icl_query_3, icl_response_3, raw_document, dataset_type, document, question,          </span>│\n",
       "│<span style=\"color: #008080; text-decoration-color: #008080\">         </span>│<span style=\"color: #800080; text-decoration-color: #800080\"> response, explanation, judgment                                                                       </span>│\n",
       "└─────────┴───────────────────────────────────────────────────────────────────────────────────────────────────────┘\n",
       "</pre>\n"
      ],
      "text/plain": [
       "\u001b[3m                                   Output Block 8/13: eval_faithfulness_qa_pair                                    \u001b[0m\n",
       "┏━━━━━━━━━┳━━━━━━━━━━━━━━━━━━━━━━━━━━━━━━━━━━━━━━━━━━━━━━━━━━━━━━━━━━━━━━━━━━━━━━━━━━━━━━━━━━━━━━━━━━━━━━━━━━━━━━━┓\n",
       "┃\u001b[1m \u001b[0m\u001b[1mMetric \u001b[0m\u001b[1m \u001b[0m┃\u001b[1m \u001b[0m\u001b[1mValue                                                                                                \u001b[0m\u001b[1m \u001b[0m┃\n",
       "┡━━━━━━━━━╇━━━━━━━━━━━━━━━━━━━━━━━━━━━━━━━━━━━━━━━━━━━━━━━━━━━━━━━━━━━━━━━━━━━━━━━━━━━━━━━━━━━━━━━━━━━━━━━━━━━━━━━┩\n",
       "│\u001b[36m \u001b[0m\u001b[36mRows   \u001b[0m\u001b[36m \u001b[0m│\u001b[35m \u001b[0m\u001b[35m25                                                                                                   \u001b[0m\u001b[35m \u001b[0m│\n",
       "│\u001b[36m \u001b[0m\u001b[36mColumns\u001b[0m\u001b[36m \u001b[0m│\u001b[35m \u001b[0m\u001b[35mdocument_outline, document_title, domain, icl_document, icl_query_1, icl_response_1, icl_query_2,    \u001b[0m\u001b[35m \u001b[0m│\n",
       "│\u001b[36m         \u001b[0m│\u001b[35m \u001b[0m\u001b[35micl_response_2, icl_query_3, icl_response_3, raw_document, dataset_type, document, question,         \u001b[0m\u001b[35m \u001b[0m│\n",
       "│\u001b[36m         \u001b[0m│\u001b[35m \u001b[0m\u001b[35mresponse, explanation, judgment                                                                      \u001b[0m\u001b[35m \u001b[0m│\n",
       "└─────────┴───────────────────────────────────────────────────────────────────────────────────────────────────────┘\n"
      ]
     },
     "metadata": {},
     "output_type": "display_data"
    },
    {
     "data": {
      "text/html": [
       "<pre style=\"white-space:pre;overflow-x:auto;line-height:normal;font-family:Menlo,'DejaVu Sans Mono',consolas,'Courier New',monospace\"><span style=\"color: #7fbfbf; text-decoration-color: #7fbfbf\">           </span><span style=\"color: #000080; text-decoration-color: #000080\">INFO    </span> 🔄 Running block <span style=\"color: #008080; text-decoration-color: #008080; font-weight: bold\">9</span>/<span style=\"color: #008080; text-decoration-color: #008080; font-weight: bold\">13</span>: filter_faithfulness                                          <a href=\"file:///Users/aditisaluja/Desktop/sdg_hub/.venv_sdg/lib/python3.9/site-packages/sdg_hub/flow.py\" target=\"_blank\"><span style=\"color: #7f7f7f; text-decoration-color: #7f7f7f\">flow.py</span></a><span style=\"color: #7f7f7f; text-decoration-color: #7f7f7f\">:</span><a href=\"file:///Users/aditisaluja/Desktop/sdg_hub/.venv_sdg/lib/python3.9/site-packages/sdg_hub/flow.py#205\" target=\"_blank\"><span style=\"color: #7f7f7f; text-decoration-color: #7f7f7f\">205</span></a>\n",
       "</pre>\n"
      ],
      "text/plain": [
       "\u001b[2;36m          \u001b[0m\u001b[2;36m \u001b[0m\u001b[34mINFO    \u001b[0m 🔄 Running block \u001b[1;36m9\u001b[0m/\u001b[1;36m13\u001b[0m: filter_faithfulness                                          \u001b]8;id=73308;file:///Users/aditisaluja/Desktop/sdg_hub/.venv_sdg/lib/python3.9/site-packages/sdg_hub/flow.py\u001b\\\u001b[2mflow.py\u001b[0m\u001b]8;;\u001b\\\u001b[2m:\u001b[0m\u001b]8;id=920785;file:///Users/aditisaluja/Desktop/sdg_hub/.venv_sdg/lib/python3.9/site-packages/sdg_hub/flow.py#205\u001b\\\u001b[2m205\u001b[0m\u001b]8;;\u001b\\\n"
      ]
     },
     "metadata": {},
     "output_type": "display_data"
    },
    {
     "data": {
      "text/html": [
       "<pre style=\"white-space:pre;overflow-x:auto;line-height:normal;font-family:Menlo,'DejaVu Sans Mono',consolas,'Courier New',monospace\"><span style=\"font-style: italic\">                                       Input Block 9/13: filter_faithfulness                                       </span>\n",
       "┏━━━━━━━━━┳━━━━━━━━━━━━━━━━━━━━━━━━━━━━━━━━━━━━━━━━━━━━━━━━━━━━━━━━━━━━━━━━━━━━━━━━━━━━━━━━━━━━━━━━━━━━━━━━━━━━━━━┓\n",
       "┃<span style=\"font-weight: bold\"> Metric  </span>┃<span style=\"font-weight: bold\"> Value                                                                                                 </span>┃\n",
       "┡━━━━━━━━━╇━━━━━━━━━━━━━━━━━━━━━━━━━━━━━━━━━━━━━━━━━━━━━━━━━━━━━━━━━━━━━━━━━━━━━━━━━━━━━━━━━━━━━━━━━━━━━━━━━━━━━━━┩\n",
       "│<span style=\"color: #008080; text-decoration-color: #008080\"> Rows    </span>│<span style=\"color: #800080; text-decoration-color: #800080\"> 25                                                                                                    </span>│\n",
       "│<span style=\"color: #008080; text-decoration-color: #008080\"> Columns </span>│<span style=\"color: #800080; text-decoration-color: #800080\"> document_outline, document_title, domain, icl_document, icl_query_1, icl_response_1, icl_query_2,     </span>│\n",
       "│<span style=\"color: #008080; text-decoration-color: #008080\">         </span>│<span style=\"color: #800080; text-decoration-color: #800080\"> icl_response_2, icl_query_3, icl_response_3, raw_document, dataset_type, document, question,          </span>│\n",
       "│<span style=\"color: #008080; text-decoration-color: #008080\">         </span>│<span style=\"color: #800080; text-decoration-color: #800080\"> response, explanation, judgment                                                                       </span>│\n",
       "└─────────┴───────────────────────────────────────────────────────────────────────────────────────────────────────┘\n",
       "</pre>\n"
      ],
      "text/plain": [
       "\u001b[3m                                       Input Block 9/13: filter_faithfulness                                       \u001b[0m\n",
       "┏━━━━━━━━━┳━━━━━━━━━━━━━━━━━━━━━━━━━━━━━━━━━━━━━━━━━━━━━━━━━━━━━━━━━━━━━━━━━━━━━━━━━━━━━━━━━━━━━━━━━━━━━━━━━━━━━━━┓\n",
       "┃\u001b[1m \u001b[0m\u001b[1mMetric \u001b[0m\u001b[1m \u001b[0m┃\u001b[1m \u001b[0m\u001b[1mValue                                                                                                \u001b[0m\u001b[1m \u001b[0m┃\n",
       "┡━━━━━━━━━╇━━━━━━━━━━━━━━━━━━━━━━━━━━━━━━━━━━━━━━━━━━━━━━━━━━━━━━━━━━━━━━━━━━━━━━━━━━━━━━━━━━━━━━━━━━━━━━━━━━━━━━━┩\n",
       "│\u001b[36m \u001b[0m\u001b[36mRows   \u001b[0m\u001b[36m \u001b[0m│\u001b[35m \u001b[0m\u001b[35m25                                                                                                   \u001b[0m\u001b[35m \u001b[0m│\n",
       "│\u001b[36m \u001b[0m\u001b[36mColumns\u001b[0m\u001b[36m \u001b[0m│\u001b[35m \u001b[0m\u001b[35mdocument_outline, document_title, domain, icl_document, icl_query_1, icl_response_1, icl_query_2,    \u001b[0m\u001b[35m \u001b[0m│\n",
       "│\u001b[36m         \u001b[0m│\u001b[35m \u001b[0m\u001b[35micl_response_2, icl_query_3, icl_response_3, raw_document, dataset_type, document, question,         \u001b[0m\u001b[35m \u001b[0m│\n",
       "│\u001b[36m         \u001b[0m│\u001b[35m \u001b[0m\u001b[35mresponse, explanation, judgment                                                                      \u001b[0m\u001b[35m \u001b[0m│\n",
       "└─────────┴───────────────────────────────────────────────────────────────────────────────────────────────────────┘\n"
      ]
     },
     "metadata": {},
     "output_type": "display_data"
    },
    {
     "name": "stderr",
     "output_type": "stream",
     "text": [
      "Filter: 100%|██████████| 25/25 [00:00<00:00, 7118.64 examples/s]\n",
      "Filter: 100%|██████████| 25/25 [00:00<00:00, 5678.11 examples/s]\n"
     ]
    },
    {
     "data": {
      "text/html": [
       "<pre style=\"white-space:pre;overflow-x:auto;line-height:normal;font-family:Menlo,'DejaVu Sans Mono',consolas,'Courier New',monospace\"><span style=\"font-style: italic\">                                      Output Block 9/13: filter_faithfulness                                       </span>\n",
       "┏━━━━━━━━━┳━━━━━━━━━━━━━━━━━━━━━━━━━━━━━━━━━━━━━━━━━━━━━━━━━━━━━━━━━━━━━━━━━━━━━━━━━━━━━━━━━━━━━━━━━━━━━━━━━━━━━━━┓\n",
       "┃<span style=\"font-weight: bold\"> Metric  </span>┃<span style=\"font-weight: bold\"> Value                                                                                                 </span>┃\n",
       "┡━━━━━━━━━╇━━━━━━━━━━━━━━━━━━━━━━━━━━━━━━━━━━━━━━━━━━━━━━━━━━━━━━━━━━━━━━━━━━━━━━━━━━━━━━━━━━━━━━━━━━━━━━━━━━━━━━━┩\n",
       "│<span style=\"color: #008080; text-decoration-color: #008080\"> Rows    </span>│<span style=\"color: #800080; text-decoration-color: #800080\"> 24                                                                                                    </span>│\n",
       "│<span style=\"color: #008080; text-decoration-color: #008080\"> Columns </span>│<span style=\"color: #800080; text-decoration-color: #800080\"> document_outline, document_title, domain, icl_document, icl_query_1, icl_response_1, icl_query_2,     </span>│\n",
       "│<span style=\"color: #008080; text-decoration-color: #008080\">         </span>│<span style=\"color: #800080; text-decoration-color: #800080\"> icl_response_2, icl_query_3, icl_response_3, raw_document, dataset_type, document, question, response </span>│\n",
       "└─────────┴───────────────────────────────────────────────────────────────────────────────────────────────────────┘\n",
       "</pre>\n"
      ],
      "text/plain": [
       "\u001b[3m                                      Output Block 9/13: filter_faithfulness                                       \u001b[0m\n",
       "┏━━━━━━━━━┳━━━━━━━━━━━━━━━━━━━━━━━━━━━━━━━━━━━━━━━━━━━━━━━━━━━━━━━━━━━━━━━━━━━━━━━━━━━━━━━━━━━━━━━━━━━━━━━━━━━━━━━┓\n",
       "┃\u001b[1m \u001b[0m\u001b[1mMetric \u001b[0m\u001b[1m \u001b[0m┃\u001b[1m \u001b[0m\u001b[1mValue                                                                                                \u001b[0m\u001b[1m \u001b[0m┃\n",
       "┡━━━━━━━━━╇━━━━━━━━━━━━━━━━━━━━━━━━━━━━━━━━━━━━━━━━━━━━━━━━━━━━━━━━━━━━━━━━━━━━━━━━━━━━━━━━━━━━━━━━━━━━━━━━━━━━━━━┩\n",
       "│\u001b[36m \u001b[0m\u001b[36mRows   \u001b[0m\u001b[36m \u001b[0m│\u001b[35m \u001b[0m\u001b[35m24                                                                                                   \u001b[0m\u001b[35m \u001b[0m│\n",
       "│\u001b[36m \u001b[0m\u001b[36mColumns\u001b[0m\u001b[36m \u001b[0m│\u001b[35m \u001b[0m\u001b[35mdocument_outline, document_title, domain, icl_document, icl_query_1, icl_response_1, icl_query_2,    \u001b[0m\u001b[35m \u001b[0m│\n",
       "│\u001b[36m         \u001b[0m│\u001b[35m \u001b[0m\u001b[35micl_response_2, icl_query_3, icl_response_3, raw_document, dataset_type, document, question, response\u001b[0m\u001b[35m \u001b[0m│\n",
       "└─────────┴───────────────────────────────────────────────────────────────────────────────────────────────────────┘\n"
      ]
     },
     "metadata": {},
     "output_type": "display_data"
    },
    {
     "data": {
      "text/html": [
       "<pre style=\"white-space:pre;overflow-x:auto;line-height:normal;font-family:Menlo,'DejaVu Sans Mono',consolas,'Courier New',monospace\"><span style=\"color: #7fbfbf; text-decoration-color: #7fbfbf\">           </span><span style=\"color: #000080; text-decoration-color: #000080\">INFO    </span> 🔄 Running block <span style=\"color: #008080; text-decoration-color: #008080; font-weight: bold\">10</span>/<span style=\"color: #008080; text-decoration-color: #008080; font-weight: bold\">13</span>: eval_relevancy_qa_pair                                      <a href=\"file:///Users/aditisaluja/Desktop/sdg_hub/.venv_sdg/lib/python3.9/site-packages/sdg_hub/flow.py\" target=\"_blank\"><span style=\"color: #7f7f7f; text-decoration-color: #7f7f7f\">flow.py</span></a><span style=\"color: #7f7f7f; text-decoration-color: #7f7f7f\">:</span><a href=\"file:///Users/aditisaluja/Desktop/sdg_hub/.venv_sdg/lib/python3.9/site-packages/sdg_hub/flow.py#205\" target=\"_blank\"><span style=\"color: #7f7f7f; text-decoration-color: #7f7f7f\">205</span></a>\n",
       "</pre>\n"
      ],
      "text/plain": [
       "\u001b[2;36m          \u001b[0m\u001b[2;36m \u001b[0m\u001b[34mINFO    \u001b[0m 🔄 Running block \u001b[1;36m10\u001b[0m/\u001b[1;36m13\u001b[0m: eval_relevancy_qa_pair                                      \u001b]8;id=672133;file:///Users/aditisaluja/Desktop/sdg_hub/.venv_sdg/lib/python3.9/site-packages/sdg_hub/flow.py\u001b\\\u001b[2mflow.py\u001b[0m\u001b]8;;\u001b\\\u001b[2m:\u001b[0m\u001b]8;id=905743;file:///Users/aditisaluja/Desktop/sdg_hub/.venv_sdg/lib/python3.9/site-packages/sdg_hub/flow.py#205\u001b\\\u001b[2m205\u001b[0m\u001b]8;;\u001b\\\n"
      ]
     },
     "metadata": {},
     "output_type": "display_data"
    },
    {
     "data": {
      "text/html": [
       "<pre style=\"white-space:pre;overflow-x:auto;line-height:normal;font-family:Menlo,'DejaVu Sans Mono',consolas,'Courier New',monospace\"><span style=\"font-style: italic\">                                     Input Block 10/13: eval_relevancy_qa_pair                                     </span>\n",
       "┏━━━━━━━━━┳━━━━━━━━━━━━━━━━━━━━━━━━━━━━━━━━━━━━━━━━━━━━━━━━━━━━━━━━━━━━━━━━━━━━━━━━━━━━━━━━━━━━━━━━━━━━━━━━━━━━━━━┓\n",
       "┃<span style=\"font-weight: bold\"> Metric  </span>┃<span style=\"font-weight: bold\"> Value                                                                                                 </span>┃\n",
       "┡━━━━━━━━━╇━━━━━━━━━━━━━━━━━━━━━━━━━━━━━━━━━━━━━━━━━━━━━━━━━━━━━━━━━━━━━━━━━━━━━━━━━━━━━━━━━━━━━━━━━━━━━━━━━━━━━━━┩\n",
       "│<span style=\"color: #008080; text-decoration-color: #008080\"> Rows    </span>│<span style=\"color: #800080; text-decoration-color: #800080\"> 24                                                                                                    </span>│\n",
       "│<span style=\"color: #008080; text-decoration-color: #008080\"> Columns </span>│<span style=\"color: #800080; text-decoration-color: #800080\"> document_outline, document_title, domain, icl_document, icl_query_1, icl_response_1, icl_query_2,     </span>│\n",
       "│<span style=\"color: #008080; text-decoration-color: #008080\">         </span>│<span style=\"color: #800080; text-decoration-color: #800080\"> icl_response_2, icl_query_3, icl_response_3, raw_document, dataset_type, document, question, response </span>│\n",
       "└─────────┴───────────────────────────────────────────────────────────────────────────────────────────────────────┘\n",
       "</pre>\n"
      ],
      "text/plain": [
       "\u001b[3m                                     Input Block 10/13: eval_relevancy_qa_pair                                     \u001b[0m\n",
       "┏━━━━━━━━━┳━━━━━━━━━━━━━━━━━━━━━━━━━━━━━━━━━━━━━━━━━━━━━━━━━━━━━━━━━━━━━━━━━━━━━━━━━━━━━━━━━━━━━━━━━━━━━━━━━━━━━━━┓\n",
       "┃\u001b[1m \u001b[0m\u001b[1mMetric \u001b[0m\u001b[1m \u001b[0m┃\u001b[1m \u001b[0m\u001b[1mValue                                                                                                \u001b[0m\u001b[1m \u001b[0m┃\n",
       "┡━━━━━━━━━╇━━━━━━━━━━━━━━━━━━━━━━━━━━━━━━━━━━━━━━━━━━━━━━━━━━━━━━━━━━━━━━━━━━━━━━━━━━━━━━━━━━━━━━━━━━━━━━━━━━━━━━━┩\n",
       "│\u001b[36m \u001b[0m\u001b[36mRows   \u001b[0m\u001b[36m \u001b[0m│\u001b[35m \u001b[0m\u001b[35m24                                                                                                   \u001b[0m\u001b[35m \u001b[0m│\n",
       "│\u001b[36m \u001b[0m\u001b[36mColumns\u001b[0m\u001b[36m \u001b[0m│\u001b[35m \u001b[0m\u001b[35mdocument_outline, document_title, domain, icl_document, icl_query_1, icl_response_1, icl_query_2,    \u001b[0m\u001b[35m \u001b[0m│\n",
       "│\u001b[36m         \u001b[0m│\u001b[35m \u001b[0m\u001b[35micl_response_2, icl_query_3, icl_response_3, raw_document, dataset_type, document, question, response\u001b[0m\u001b[35m \u001b[0m│\n",
       "└─────────┴───────────────────────────────────────────────────────────────────────────────────────────────────────┘\n"
      ]
     },
     "metadata": {},
     "output_type": "display_data"
    },
    {
     "data": {
      "text/html": [
       "<pre style=\"white-space:pre;overflow-x:auto;line-height:normal;font-family:Menlo,'DejaVu Sans Mono',consolas,'Courier New',monospace\"><span style=\"color: #7fbfbf; text-decoration-color: #7fbfbf\">[16:40:56] </span><span style=\"color: #000080; text-decoration-color: #000080\">INFO    </span> HTTP Request: <span style=\"color: #808000; text-decoration-color: #808000; font-weight: bold\">POST</span>                                                              <a href=\"file:///Users/aditisaluja/Desktop/sdg_hub/.venv_sdg/lib/python3.9/site-packages/httpx/_client.py\" target=\"_blank\"><span style=\"color: #7f7f7f; text-decoration-color: #7f7f7f\">_client.py</span></a><span style=\"color: #7f7f7f; text-decoration-color: #7f7f7f\">:</span><a href=\"file:///Users/aditisaluja/Desktop/sdg_hub/.venv_sdg/lib/python3.9/site-packages/httpx/_client.py#1025\" target=\"_blank\"><span style=\"color: #7f7f7f; text-decoration-color: #7f7f7f\">1025</span></a>\n",
       "<span style=\"color: #7fbfbf; text-decoration-color: #7fbfbf\">           </span>         <span style=\"color: #0000ff; text-decoration-color: #0000ff; text-decoration: underline\">https://phi-4-maas-apicast-production.apps.prod.rhoai.rh-aiservices-bu.com/v1/c</span> <span style=\"color: #7f7f7f; text-decoration-color: #7f7f7f\">               </span>\n",
       "<span style=\"color: #7fbfbf; text-decoration-color: #7fbfbf\">           </span>         <span style=\"color: #0000ff; text-decoration-color: #0000ff; text-decoration: underline\">ompletions</span> <span style=\"color: #008000; text-decoration-color: #008000\">\"HTTP/1.1 200 OK\"</span>                                                    <span style=\"color: #7f7f7f; text-decoration-color: #7f7f7f\">               </span>\n",
       "</pre>\n"
      ],
      "text/plain": [
       "\u001b[2;36m[16:40:56]\u001b[0m\u001b[2;36m \u001b[0m\u001b[34mINFO    \u001b[0m HTTP Request: \u001b[1;33mPOST\u001b[0m                                                              \u001b]8;id=32003;file:///Users/aditisaluja/Desktop/sdg_hub/.venv_sdg/lib/python3.9/site-packages/httpx/_client.py\u001b\\\u001b[2m_client.py\u001b[0m\u001b]8;;\u001b\\\u001b[2m:\u001b[0m\u001b]8;id=320109;file:///Users/aditisaluja/Desktop/sdg_hub/.venv_sdg/lib/python3.9/site-packages/httpx/_client.py#1025\u001b\\\u001b[2m1025\u001b[0m\u001b]8;;\u001b\\\n",
       "\u001b[2;36m           \u001b[0m         \u001b[4;94mhttps://phi-4-maas-apicast-production.apps.prod.rhoai.rh-aiservices-bu.com/v1/c\u001b[0m \u001b[2m               \u001b[0m\n",
       "\u001b[2;36m           \u001b[0m         \u001b[4;94mompletions\u001b[0m \u001b[32m\"HTTP/1.1 200 OK\"\u001b[0m                                                    \u001b[2m               \u001b[0m\n"
      ]
     },
     "metadata": {},
     "output_type": "display_data"
    },
    {
     "data": {
      "text/html": [
       "<pre style=\"white-space:pre;overflow-x:auto;line-height:normal;font-family:Menlo,'DejaVu Sans Mono',consolas,'Courier New',monospace\"><span style=\"font-style: italic\">                                    Output Block 10/13: eval_relevancy_qa_pair                                     </span>\n",
       "┏━━━━━━━━━┳━━━━━━━━━━━━━━━━━━━━━━━━━━━━━━━━━━━━━━━━━━━━━━━━━━━━━━━━━━━━━━━━━━━━━━━━━━━━━━━━━━━━━━━━━━━━━━━━━━━━━━━┓\n",
       "┃<span style=\"font-weight: bold\"> Metric  </span>┃<span style=\"font-weight: bold\"> Value                                                                                                 </span>┃\n",
       "┡━━━━━━━━━╇━━━━━━━━━━━━━━━━━━━━━━━━━━━━━━━━━━━━━━━━━━━━━━━━━━━━━━━━━━━━━━━━━━━━━━━━━━━━━━━━━━━━━━━━━━━━━━━━━━━━━━━┩\n",
       "│<span style=\"color: #008080; text-decoration-color: #008080\"> Rows    </span>│<span style=\"color: #800080; text-decoration-color: #800080\"> 23                                                                                                    </span>│\n",
       "│<span style=\"color: #008080; text-decoration-color: #008080\"> Columns </span>│<span style=\"color: #800080; text-decoration-color: #800080\"> document_outline, document_title, domain, icl_document, icl_query_1, icl_response_1, icl_query_2,     </span>│\n",
       "│<span style=\"color: #008080; text-decoration-color: #008080\">         </span>│<span style=\"color: #800080; text-decoration-color: #800080\"> icl_response_2, icl_query_3, icl_response_3, raw_document, dataset_type, document, question,          </span>│\n",
       "│<span style=\"color: #008080; text-decoration-color: #008080\">         </span>│<span style=\"color: #800080; text-decoration-color: #800080\"> response, feedback, score                                                                             </span>│\n",
       "└─────────┴───────────────────────────────────────────────────────────────────────────────────────────────────────┘\n",
       "</pre>\n"
      ],
      "text/plain": [
       "\u001b[3m                                    Output Block 10/13: eval_relevancy_qa_pair                                     \u001b[0m\n",
       "┏━━━━━━━━━┳━━━━━━━━━━━━━━━━━━━━━━━━━━━━━━━━━━━━━━━━━━━━━━━━━━━━━━━━━━━━━━━━━━━━━━━━━━━━━━━━━━━━━━━━━━━━━━━━━━━━━━━┓\n",
       "┃\u001b[1m \u001b[0m\u001b[1mMetric \u001b[0m\u001b[1m \u001b[0m┃\u001b[1m \u001b[0m\u001b[1mValue                                                                                                \u001b[0m\u001b[1m \u001b[0m┃\n",
       "┡━━━━━━━━━╇━━━━━━━━━━━━━━━━━━━━━━━━━━━━━━━━━━━━━━━━━━━━━━━━━━━━━━━━━━━━━━━━━━━━━━━━━━━━━━━━━━━━━━━━━━━━━━━━━━━━━━━┩\n",
       "│\u001b[36m \u001b[0m\u001b[36mRows   \u001b[0m\u001b[36m \u001b[0m│\u001b[35m \u001b[0m\u001b[35m23                                                                                                   \u001b[0m\u001b[35m \u001b[0m│\n",
       "│\u001b[36m \u001b[0m\u001b[36mColumns\u001b[0m\u001b[36m \u001b[0m│\u001b[35m \u001b[0m\u001b[35mdocument_outline, document_title, domain, icl_document, icl_query_1, icl_response_1, icl_query_2,    \u001b[0m\u001b[35m \u001b[0m│\n",
       "│\u001b[36m         \u001b[0m│\u001b[35m \u001b[0m\u001b[35micl_response_2, icl_query_3, icl_response_3, raw_document, dataset_type, document, question,         \u001b[0m\u001b[35m \u001b[0m│\n",
       "│\u001b[36m         \u001b[0m│\u001b[35m \u001b[0m\u001b[35mresponse, feedback, score                                                                            \u001b[0m\u001b[35m \u001b[0m│\n",
       "└─────────┴───────────────────────────────────────────────────────────────────────────────────────────────────────┘\n"
      ]
     },
     "metadata": {},
     "output_type": "display_data"
    },
    {
     "data": {
      "text/html": [
       "<pre style=\"white-space:pre;overflow-x:auto;line-height:normal;font-family:Menlo,'DejaVu Sans Mono',consolas,'Courier New',monospace\"><span style=\"color: #7fbfbf; text-decoration-color: #7fbfbf\">           </span><span style=\"color: #000080; text-decoration-color: #000080\">INFO    </span> 🔄 Running block <span style=\"color: #008080; text-decoration-color: #008080; font-weight: bold\">11</span>/<span style=\"color: #008080; text-decoration-color: #008080; font-weight: bold\">13</span>: filter_relevancy                                            <a href=\"file:///Users/aditisaluja/Desktop/sdg_hub/.venv_sdg/lib/python3.9/site-packages/sdg_hub/flow.py\" target=\"_blank\"><span style=\"color: #7f7f7f; text-decoration-color: #7f7f7f\">flow.py</span></a><span style=\"color: #7f7f7f; text-decoration-color: #7f7f7f\">:</span><a href=\"file:///Users/aditisaluja/Desktop/sdg_hub/.venv_sdg/lib/python3.9/site-packages/sdg_hub/flow.py#205\" target=\"_blank\"><span style=\"color: #7f7f7f; text-decoration-color: #7f7f7f\">205</span></a>\n",
       "</pre>\n"
      ],
      "text/plain": [
       "\u001b[2;36m          \u001b[0m\u001b[2;36m \u001b[0m\u001b[34mINFO    \u001b[0m 🔄 Running block \u001b[1;36m11\u001b[0m/\u001b[1;36m13\u001b[0m: filter_relevancy                                            \u001b]8;id=284726;file:///Users/aditisaluja/Desktop/sdg_hub/.venv_sdg/lib/python3.9/site-packages/sdg_hub/flow.py\u001b\\\u001b[2mflow.py\u001b[0m\u001b]8;;\u001b\\\u001b[2m:\u001b[0m\u001b]8;id=881012;file:///Users/aditisaluja/Desktop/sdg_hub/.venv_sdg/lib/python3.9/site-packages/sdg_hub/flow.py#205\u001b\\\u001b[2m205\u001b[0m\u001b]8;;\u001b\\\n"
      ]
     },
     "metadata": {},
     "output_type": "display_data"
    },
    {
     "data": {
      "text/html": [
       "<pre style=\"white-space:pre;overflow-x:auto;line-height:normal;font-family:Menlo,'DejaVu Sans Mono',consolas,'Courier New',monospace\"><span style=\"font-style: italic\">                                        Input Block 11/13: filter_relevancy                                        </span>\n",
       "┏━━━━━━━━━┳━━━━━━━━━━━━━━━━━━━━━━━━━━━━━━━━━━━━━━━━━━━━━━━━━━━━━━━━━━━━━━━━━━━━━━━━━━━━━━━━━━━━━━━━━━━━━━━━━━━━━━━┓\n",
       "┃<span style=\"font-weight: bold\"> Metric  </span>┃<span style=\"font-weight: bold\"> Value                                                                                                 </span>┃\n",
       "┡━━━━━━━━━╇━━━━━━━━━━━━━━━━━━━━━━━━━━━━━━━━━━━━━━━━━━━━━━━━━━━━━━━━━━━━━━━━━━━━━━━━━━━━━━━━━━━━━━━━━━━━━━━━━━━━━━━┩\n",
       "│<span style=\"color: #008080; text-decoration-color: #008080\"> Rows    </span>│<span style=\"color: #800080; text-decoration-color: #800080\"> 23                                                                                                    </span>│\n",
       "│<span style=\"color: #008080; text-decoration-color: #008080\"> Columns </span>│<span style=\"color: #800080; text-decoration-color: #800080\"> document_outline, document_title, domain, icl_document, icl_query_1, icl_response_1, icl_query_2,     </span>│\n",
       "│<span style=\"color: #008080; text-decoration-color: #008080\">         </span>│<span style=\"color: #800080; text-decoration-color: #800080\"> icl_response_2, icl_query_3, icl_response_3, raw_document, dataset_type, document, question,          </span>│\n",
       "│<span style=\"color: #008080; text-decoration-color: #008080\">         </span>│<span style=\"color: #800080; text-decoration-color: #800080\"> response, feedback, score                                                                             </span>│\n",
       "└─────────┴───────────────────────────────────────────────────────────────────────────────────────────────────────┘\n",
       "</pre>\n"
      ],
      "text/plain": [
       "\u001b[3m                                        Input Block 11/13: filter_relevancy                                        \u001b[0m\n",
       "┏━━━━━━━━━┳━━━━━━━━━━━━━━━━━━━━━━━━━━━━━━━━━━━━━━━━━━━━━━━━━━━━━━━━━━━━━━━━━━━━━━━━━━━━━━━━━━━━━━━━━━━━━━━━━━━━━━━┓\n",
       "┃\u001b[1m \u001b[0m\u001b[1mMetric \u001b[0m\u001b[1m \u001b[0m┃\u001b[1m \u001b[0m\u001b[1mValue                                                                                                \u001b[0m\u001b[1m \u001b[0m┃\n",
       "┡━━━━━━━━━╇━━━━━━━━━━━━━━━━━━━━━━━━━━━━━━━━━━━━━━━━━━━━━━━━━━━━━━━━━━━━━━━━━━━━━━━━━━━━━━━━━━━━━━━━━━━━━━━━━━━━━━━┩\n",
       "│\u001b[36m \u001b[0m\u001b[36mRows   \u001b[0m\u001b[36m \u001b[0m│\u001b[35m \u001b[0m\u001b[35m23                                                                                                   \u001b[0m\u001b[35m \u001b[0m│\n",
       "│\u001b[36m \u001b[0m\u001b[36mColumns\u001b[0m\u001b[36m \u001b[0m│\u001b[35m \u001b[0m\u001b[35mdocument_outline, document_title, domain, icl_document, icl_query_1, icl_response_1, icl_query_2,    \u001b[0m\u001b[35m \u001b[0m│\n",
       "│\u001b[36m         \u001b[0m│\u001b[35m \u001b[0m\u001b[35micl_response_2, icl_query_3, icl_response_3, raw_document, dataset_type, document, question,         \u001b[0m\u001b[35m \u001b[0m│\n",
       "│\u001b[36m         \u001b[0m│\u001b[35m \u001b[0m\u001b[35mresponse, feedback, score                                                                            \u001b[0m\u001b[35m \u001b[0m│\n",
       "└─────────┴───────────────────────────────────────────────────────────────────────────────────────────────────────┘\n"
      ]
     },
     "metadata": {},
     "output_type": "display_data"
    },
    {
     "name": "stderr",
     "output_type": "stream",
     "text": [
      "Map: 100%|██████████| 23/23 [00:00<00:00, 3666.49 examples/s]\n",
      "Filter: 100%|██████████| 23/23 [00:00<00:00, 6976.35 examples/s]\n",
      "Filter: 100%|██████████| 23/23 [00:00<00:00, 5862.95 examples/s]\n"
     ]
    },
    {
     "data": {
      "text/html": [
       "<pre style=\"white-space:pre;overflow-x:auto;line-height:normal;font-family:Menlo,'DejaVu Sans Mono',consolas,'Courier New',monospace\"><span style=\"font-style: italic\">                                       Output Block 11/13: filter_relevancy                                        </span>\n",
       "┏━━━━━━━━━┳━━━━━━━━━━━━━━━━━━━━━━━━━━━━━━━━━━━━━━━━━━━━━━━━━━━━━━━━━━━━━━━━━━━━━━━━━━━━━━━━━━━━━━━━━━━━━━━━━━━━━━━┓\n",
       "┃<span style=\"font-weight: bold\"> Metric  </span>┃<span style=\"font-weight: bold\"> Value                                                                                                 </span>┃\n",
       "┡━━━━━━━━━╇━━━━━━━━━━━━━━━━━━━━━━━━━━━━━━━━━━━━━━━━━━━━━━━━━━━━━━━━━━━━━━━━━━━━━━━━━━━━━━━━━━━━━━━━━━━━━━━━━━━━━━━┩\n",
       "│<span style=\"color: #008080; text-decoration-color: #008080\"> Rows    </span>│<span style=\"color: #800080; text-decoration-color: #800080\"> 23                                                                                                    </span>│\n",
       "│<span style=\"color: #008080; text-decoration-color: #008080\"> Columns </span>│<span style=\"color: #800080; text-decoration-color: #800080\"> document_outline, document_title, domain, icl_document, icl_query_1, icl_response_1, icl_query_2,     </span>│\n",
       "│<span style=\"color: #008080; text-decoration-color: #008080\">         </span>│<span style=\"color: #800080; text-decoration-color: #800080\"> icl_response_2, icl_query_3, icl_response_3, raw_document, dataset_type, document, question, response </span>│\n",
       "└─────────┴───────────────────────────────────────────────────────────────────────────────────────────────────────┘\n",
       "</pre>\n"
      ],
      "text/plain": [
       "\u001b[3m                                       Output Block 11/13: filter_relevancy                                        \u001b[0m\n",
       "┏━━━━━━━━━┳━━━━━━━━━━━━━━━━━━━━━━━━━━━━━━━━━━━━━━━━━━━━━━━━━━━━━━━━━━━━━━━━━━━━━━━━━━━━━━━━━━━━━━━━━━━━━━━━━━━━━━━┓\n",
       "┃\u001b[1m \u001b[0m\u001b[1mMetric \u001b[0m\u001b[1m \u001b[0m┃\u001b[1m \u001b[0m\u001b[1mValue                                                                                                \u001b[0m\u001b[1m \u001b[0m┃\n",
       "┡━━━━━━━━━╇━━━━━━━━━━━━━━━━━━━━━━━━━━━━━━━━━━━━━━━━━━━━━━━━━━━━━━━━━━━━━━━━━━━━━━━━━━━━━━━━━━━━━━━━━━━━━━━━━━━━━━━┩\n",
       "│\u001b[36m \u001b[0m\u001b[36mRows   \u001b[0m\u001b[36m \u001b[0m│\u001b[35m \u001b[0m\u001b[35m23                                                                                                   \u001b[0m\u001b[35m \u001b[0m│\n",
       "│\u001b[36m \u001b[0m\u001b[36mColumns\u001b[0m\u001b[36m \u001b[0m│\u001b[35m \u001b[0m\u001b[35mdocument_outline, document_title, domain, icl_document, icl_query_1, icl_response_1, icl_query_2,    \u001b[0m\u001b[35m \u001b[0m│\n",
       "│\u001b[36m         \u001b[0m│\u001b[35m \u001b[0m\u001b[35micl_response_2, icl_query_3, icl_response_3, raw_document, dataset_type, document, question, response\u001b[0m\u001b[35m \u001b[0m│\n",
       "└─────────┴───────────────────────────────────────────────────────────────────────────────────────────────────────┘\n"
      ]
     },
     "metadata": {},
     "output_type": "display_data"
    },
    {
     "data": {
      "text/html": [
       "<pre style=\"white-space:pre;overflow-x:auto;line-height:normal;font-family:Menlo,'DejaVu Sans Mono',consolas,'Courier New',monospace\"><span style=\"color: #7fbfbf; text-decoration-color: #7fbfbf\">           </span><span style=\"color: #000080; text-decoration-color: #000080\">INFO    </span> 🔄 Running block <span style=\"color: #008080; text-decoration-color: #008080; font-weight: bold\">12</span>/<span style=\"color: #008080; text-decoration-color: #008080; font-weight: bold\">13</span>: eval_verify_question                                        <a href=\"file:///Users/aditisaluja/Desktop/sdg_hub/.venv_sdg/lib/python3.9/site-packages/sdg_hub/flow.py\" target=\"_blank\"><span style=\"color: #7f7f7f; text-decoration-color: #7f7f7f\">flow.py</span></a><span style=\"color: #7f7f7f; text-decoration-color: #7f7f7f\">:</span><a href=\"file:///Users/aditisaluja/Desktop/sdg_hub/.venv_sdg/lib/python3.9/site-packages/sdg_hub/flow.py#205\" target=\"_blank\"><span style=\"color: #7f7f7f; text-decoration-color: #7f7f7f\">205</span></a>\n",
       "</pre>\n"
      ],
      "text/plain": [
       "\u001b[2;36m          \u001b[0m\u001b[2;36m \u001b[0m\u001b[34mINFO    \u001b[0m 🔄 Running block \u001b[1;36m12\u001b[0m/\u001b[1;36m13\u001b[0m: eval_verify_question                                        \u001b]8;id=918551;file:///Users/aditisaluja/Desktop/sdg_hub/.venv_sdg/lib/python3.9/site-packages/sdg_hub/flow.py\u001b\\\u001b[2mflow.py\u001b[0m\u001b]8;;\u001b\\\u001b[2m:\u001b[0m\u001b]8;id=418888;file:///Users/aditisaluja/Desktop/sdg_hub/.venv_sdg/lib/python3.9/site-packages/sdg_hub/flow.py#205\u001b\\\u001b[2m205\u001b[0m\u001b]8;;\u001b\\\n"
      ]
     },
     "metadata": {},
     "output_type": "display_data"
    },
    {
     "data": {
      "text/html": [
       "<pre style=\"white-space:pre;overflow-x:auto;line-height:normal;font-family:Menlo,'DejaVu Sans Mono',consolas,'Courier New',monospace\"><span style=\"font-style: italic\">                                      Input Block 12/13: eval_verify_question                                      </span>\n",
       "┏━━━━━━━━━┳━━━━━━━━━━━━━━━━━━━━━━━━━━━━━━━━━━━━━━━━━━━━━━━━━━━━━━━━━━━━━━━━━━━━━━━━━━━━━━━━━━━━━━━━━━━━━━━━━━━━━━━┓\n",
       "┃<span style=\"font-weight: bold\"> Metric  </span>┃<span style=\"font-weight: bold\"> Value                                                                                                 </span>┃\n",
       "┡━━━━━━━━━╇━━━━━━━━━━━━━━━━━━━━━━━━━━━━━━━━━━━━━━━━━━━━━━━━━━━━━━━━━━━━━━━━━━━━━━━━━━━━━━━━━━━━━━━━━━━━━━━━━━━━━━━┩\n",
       "│<span style=\"color: #008080; text-decoration-color: #008080\"> Rows    </span>│<span style=\"color: #800080; text-decoration-color: #800080\"> 23                                                                                                    </span>│\n",
       "│<span style=\"color: #008080; text-decoration-color: #008080\"> Columns </span>│<span style=\"color: #800080; text-decoration-color: #800080\"> document_outline, document_title, domain, icl_document, icl_query_1, icl_response_1, icl_query_2,     </span>│\n",
       "│<span style=\"color: #008080; text-decoration-color: #008080\">         </span>│<span style=\"color: #800080; text-decoration-color: #800080\"> icl_response_2, icl_query_3, icl_response_3, raw_document, dataset_type, document, question, response </span>│\n",
       "└─────────┴───────────────────────────────────────────────────────────────────────────────────────────────────────┘\n",
       "</pre>\n"
      ],
      "text/plain": [
       "\u001b[3m                                      Input Block 12/13: eval_verify_question                                      \u001b[0m\n",
       "┏━━━━━━━━━┳━━━━━━━━━━━━━━━━━━━━━━━━━━━━━━━━━━━━━━━━━━━━━━━━━━━━━━━━━━━━━━━━━━━━━━━━━━━━━━━━━━━━━━━━━━━━━━━━━━━━━━━┓\n",
       "┃\u001b[1m \u001b[0m\u001b[1mMetric \u001b[0m\u001b[1m \u001b[0m┃\u001b[1m \u001b[0m\u001b[1mValue                                                                                                \u001b[0m\u001b[1m \u001b[0m┃\n",
       "┡━━━━━━━━━╇━━━━━━━━━━━━━━━━━━━━━━━━━━━━━━━━━━━━━━━━━━━━━━━━━━━━━━━━━━━━━━━━━━━━━━━━━━━━━━━━━━━━━━━━━━━━━━━━━━━━━━━┩\n",
       "│\u001b[36m \u001b[0m\u001b[36mRows   \u001b[0m\u001b[36m \u001b[0m│\u001b[35m \u001b[0m\u001b[35m23                                                                                                   \u001b[0m\u001b[35m \u001b[0m│\n",
       "│\u001b[36m \u001b[0m\u001b[36mColumns\u001b[0m\u001b[36m \u001b[0m│\u001b[35m \u001b[0m\u001b[35mdocument_outline, document_title, domain, icl_document, icl_query_1, icl_response_1, icl_query_2,    \u001b[0m\u001b[35m \u001b[0m│\n",
       "│\u001b[36m         \u001b[0m│\u001b[35m \u001b[0m\u001b[35micl_response_2, icl_query_3, icl_response_3, raw_document, dataset_type, document, question, response\u001b[0m\u001b[35m \u001b[0m│\n",
       "└─────────┴───────────────────────────────────────────────────────────────────────────────────────────────────────┘\n"
      ]
     },
     "metadata": {},
     "output_type": "display_data"
    },
    {
     "data": {
      "text/html": [
       "<pre style=\"white-space:pre;overflow-x:auto;line-height:normal;font-family:Menlo,'DejaVu Sans Mono',consolas,'Courier New',monospace\"><span style=\"color: #7fbfbf; text-decoration-color: #7fbfbf\">[16:41:07] </span><span style=\"color: #000080; text-decoration-color: #000080\">INFO    </span> HTTP Request: <span style=\"color: #808000; text-decoration-color: #808000; font-weight: bold\">POST</span>                                                              <a href=\"file:///Users/aditisaluja/Desktop/sdg_hub/.venv_sdg/lib/python3.9/site-packages/httpx/_client.py\" target=\"_blank\"><span style=\"color: #7f7f7f; text-decoration-color: #7f7f7f\">_client.py</span></a><span style=\"color: #7f7f7f; text-decoration-color: #7f7f7f\">:</span><a href=\"file:///Users/aditisaluja/Desktop/sdg_hub/.venv_sdg/lib/python3.9/site-packages/httpx/_client.py#1025\" target=\"_blank\"><span style=\"color: #7f7f7f; text-decoration-color: #7f7f7f\">1025</span></a>\n",
       "<span style=\"color: #7fbfbf; text-decoration-color: #7fbfbf\">           </span>         <span style=\"color: #0000ff; text-decoration-color: #0000ff; text-decoration: underline\">https://phi-4-maas-apicast-production.apps.prod.rhoai.rh-aiservices-bu.com/v1/c</span> <span style=\"color: #7f7f7f; text-decoration-color: #7f7f7f\">               </span>\n",
       "<span style=\"color: #7fbfbf; text-decoration-color: #7fbfbf\">           </span>         <span style=\"color: #0000ff; text-decoration-color: #0000ff; text-decoration: underline\">ompletions</span> <span style=\"color: #008000; text-decoration-color: #008000\">\"HTTP/1.1 200 OK\"</span>                                                    <span style=\"color: #7f7f7f; text-decoration-color: #7f7f7f\">               </span>\n",
       "</pre>\n"
      ],
      "text/plain": [
       "\u001b[2;36m[16:41:07]\u001b[0m\u001b[2;36m \u001b[0m\u001b[34mINFO    \u001b[0m HTTP Request: \u001b[1;33mPOST\u001b[0m                                                              \u001b]8;id=526606;file:///Users/aditisaluja/Desktop/sdg_hub/.venv_sdg/lib/python3.9/site-packages/httpx/_client.py\u001b\\\u001b[2m_client.py\u001b[0m\u001b]8;;\u001b\\\u001b[2m:\u001b[0m\u001b]8;id=453880;file:///Users/aditisaluja/Desktop/sdg_hub/.venv_sdg/lib/python3.9/site-packages/httpx/_client.py#1025\u001b\\\u001b[2m1025\u001b[0m\u001b]8;;\u001b\\\n",
       "\u001b[2;36m           \u001b[0m         \u001b[4;94mhttps://phi-4-maas-apicast-production.apps.prod.rhoai.rh-aiservices-bu.com/v1/c\u001b[0m \u001b[2m               \u001b[0m\n",
       "\u001b[2;36m           \u001b[0m         \u001b[4;94mompletions\u001b[0m \u001b[32m\"HTTP/1.1 200 OK\"\u001b[0m                                                    \u001b[2m               \u001b[0m\n"
      ]
     },
     "metadata": {},
     "output_type": "display_data"
    },
    {
     "data": {
      "text/html": [
       "<pre style=\"white-space:pre;overflow-x:auto;line-height:normal;font-family:Menlo,'DejaVu Sans Mono',consolas,'Courier New',monospace\"><span style=\"font-style: italic\">                                     Output Block 12/13: eval_verify_question                                      </span>\n",
       "┏━━━━━━━━━┳━━━━━━━━━━━━━━━━━━━━━━━━━━━━━━━━━━━━━━━━━━━━━━━━━━━━━━━━━━━━━━━━━━━━━━━━━━━━━━━━━━━━━━━━━━━━━━━━━━━━━━━┓\n",
       "┃<span style=\"font-weight: bold\"> Metric  </span>┃<span style=\"font-weight: bold\"> Value                                                                                                 </span>┃\n",
       "┡━━━━━━━━━╇━━━━━━━━━━━━━━━━━━━━━━━━━━━━━━━━━━━━━━━━━━━━━━━━━━━━━━━━━━━━━━━━━━━━━━━━━━━━━━━━━━━━━━━━━━━━━━━━━━━━━━━┩\n",
       "│<span style=\"color: #008080; text-decoration-color: #008080\"> Rows    </span>│<span style=\"color: #800080; text-decoration-color: #800080\"> 23                                                                                                    </span>│\n",
       "│<span style=\"color: #008080; text-decoration-color: #008080\"> Columns </span>│<span style=\"color: #800080; text-decoration-color: #800080\"> document_outline, document_title, domain, icl_document, icl_query_1, icl_response_1, icl_query_2,     </span>│\n",
       "│<span style=\"color: #008080; text-decoration-color: #008080\">         </span>│<span style=\"color: #800080; text-decoration-color: #800080\"> icl_response_2, icl_query_3, icl_response_3, raw_document, dataset_type, document, question,          </span>│\n",
       "│<span style=\"color: #008080; text-decoration-color: #008080\">         </span>│<span style=\"color: #800080; text-decoration-color: #800080\"> response, explanation, rating                                                                         </span>│\n",
       "└─────────┴───────────────────────────────────────────────────────────────────────────────────────────────────────┘\n",
       "</pre>\n"
      ],
      "text/plain": [
       "\u001b[3m                                     Output Block 12/13: eval_verify_question                                      \u001b[0m\n",
       "┏━━━━━━━━━┳━━━━━━━━━━━━━━━━━━━━━━━━━━━━━━━━━━━━━━━━━━━━━━━━━━━━━━━━━━━━━━━━━━━━━━━━━━━━━━━━━━━━━━━━━━━━━━━━━━━━━━━┓\n",
       "┃\u001b[1m \u001b[0m\u001b[1mMetric \u001b[0m\u001b[1m \u001b[0m┃\u001b[1m \u001b[0m\u001b[1mValue                                                                                                \u001b[0m\u001b[1m \u001b[0m┃\n",
       "┡━━━━━━━━━╇━━━━━━━━━━━━━━━━━━━━━━━━━━━━━━━━━━━━━━━━━━━━━━━━━━━━━━━━━━━━━━━━━━━━━━━━━━━━━━━━━━━━━━━━━━━━━━━━━━━━━━━┩\n",
       "│\u001b[36m \u001b[0m\u001b[36mRows   \u001b[0m\u001b[36m \u001b[0m│\u001b[35m \u001b[0m\u001b[35m23                                                                                                   \u001b[0m\u001b[35m \u001b[0m│\n",
       "│\u001b[36m \u001b[0m\u001b[36mColumns\u001b[0m\u001b[36m \u001b[0m│\u001b[35m \u001b[0m\u001b[35mdocument_outline, document_title, domain, icl_document, icl_query_1, icl_response_1, icl_query_2,    \u001b[0m\u001b[35m \u001b[0m│\n",
       "│\u001b[36m         \u001b[0m│\u001b[35m \u001b[0m\u001b[35micl_response_2, icl_query_3, icl_response_3, raw_document, dataset_type, document, question,         \u001b[0m\u001b[35m \u001b[0m│\n",
       "│\u001b[36m         \u001b[0m│\u001b[35m \u001b[0m\u001b[35mresponse, explanation, rating                                                                        \u001b[0m\u001b[35m \u001b[0m│\n",
       "└─────────┴───────────────────────────────────────────────────────────────────────────────────────────────────────┘\n"
      ]
     },
     "metadata": {},
     "output_type": "display_data"
    },
    {
     "data": {
      "text/html": [
       "<pre style=\"white-space:pre;overflow-x:auto;line-height:normal;font-family:Menlo,'DejaVu Sans Mono',consolas,'Courier New',monospace\"><span style=\"color: #7fbfbf; text-decoration-color: #7fbfbf\">           </span><span style=\"color: #000080; text-decoration-color: #000080\">INFO    </span> 🔄 Running block <span style=\"color: #008080; text-decoration-color: #008080; font-weight: bold\">13</span>/<span style=\"color: #008080; text-decoration-color: #008080; font-weight: bold\">13</span>: filter_verify_question                                      <a href=\"file:///Users/aditisaluja/Desktop/sdg_hub/.venv_sdg/lib/python3.9/site-packages/sdg_hub/flow.py\" target=\"_blank\"><span style=\"color: #7f7f7f; text-decoration-color: #7f7f7f\">flow.py</span></a><span style=\"color: #7f7f7f; text-decoration-color: #7f7f7f\">:</span><a href=\"file:///Users/aditisaluja/Desktop/sdg_hub/.venv_sdg/lib/python3.9/site-packages/sdg_hub/flow.py#205\" target=\"_blank\"><span style=\"color: #7f7f7f; text-decoration-color: #7f7f7f\">205</span></a>\n",
       "</pre>\n"
      ],
      "text/plain": [
       "\u001b[2;36m          \u001b[0m\u001b[2;36m \u001b[0m\u001b[34mINFO    \u001b[0m 🔄 Running block \u001b[1;36m13\u001b[0m/\u001b[1;36m13\u001b[0m: filter_verify_question                                      \u001b]8;id=52595;file:///Users/aditisaluja/Desktop/sdg_hub/.venv_sdg/lib/python3.9/site-packages/sdg_hub/flow.py\u001b\\\u001b[2mflow.py\u001b[0m\u001b]8;;\u001b\\\u001b[2m:\u001b[0m\u001b]8;id=167752;file:///Users/aditisaluja/Desktop/sdg_hub/.venv_sdg/lib/python3.9/site-packages/sdg_hub/flow.py#205\u001b\\\u001b[2m205\u001b[0m\u001b]8;;\u001b\\\n"
      ]
     },
     "metadata": {},
     "output_type": "display_data"
    },
    {
     "data": {
      "text/html": [
       "<pre style=\"white-space:pre;overflow-x:auto;line-height:normal;font-family:Menlo,'DejaVu Sans Mono',consolas,'Courier New',monospace\"><span style=\"font-style: italic\">                                     Input Block 13/13: filter_verify_question                                     </span>\n",
       "┏━━━━━━━━━┳━━━━━━━━━━━━━━━━━━━━━━━━━━━━━━━━━━━━━━━━━━━━━━━━━━━━━━━━━━━━━━━━━━━━━━━━━━━━━━━━━━━━━━━━━━━━━━━━━━━━━━━┓\n",
       "┃<span style=\"font-weight: bold\"> Metric  </span>┃<span style=\"font-weight: bold\"> Value                                                                                                 </span>┃\n",
       "┡━━━━━━━━━╇━━━━━━━━━━━━━━━━━━━━━━━━━━━━━━━━━━━━━━━━━━━━━━━━━━━━━━━━━━━━━━━━━━━━━━━━━━━━━━━━━━━━━━━━━━━━━━━━━━━━━━━┩\n",
       "│<span style=\"color: #008080; text-decoration-color: #008080\"> Rows    </span>│<span style=\"color: #800080; text-decoration-color: #800080\"> 23                                                                                                    </span>│\n",
       "│<span style=\"color: #008080; text-decoration-color: #008080\"> Columns </span>│<span style=\"color: #800080; text-decoration-color: #800080\"> document_outline, document_title, domain, icl_document, icl_query_1, icl_response_1, icl_query_2,     </span>│\n",
       "│<span style=\"color: #008080; text-decoration-color: #008080\">         </span>│<span style=\"color: #800080; text-decoration-color: #800080\"> icl_response_2, icl_query_3, icl_response_3, raw_document, dataset_type, document, question,          </span>│\n",
       "│<span style=\"color: #008080; text-decoration-color: #008080\">         </span>│<span style=\"color: #800080; text-decoration-color: #800080\"> response, explanation, rating                                                                         </span>│\n",
       "└─────────┴───────────────────────────────────────────────────────────────────────────────────────────────────────┘\n",
       "</pre>\n"
      ],
      "text/plain": [
       "\u001b[3m                                     Input Block 13/13: filter_verify_question                                     \u001b[0m\n",
       "┏━━━━━━━━━┳━━━━━━━━━━━━━━━━━━━━━━━━━━━━━━━━━━━━━━━━━━━━━━━━━━━━━━━━━━━━━━━━━━━━━━━━━━━━━━━━━━━━━━━━━━━━━━━━━━━━━━━┓\n",
       "┃\u001b[1m \u001b[0m\u001b[1mMetric \u001b[0m\u001b[1m \u001b[0m┃\u001b[1m \u001b[0m\u001b[1mValue                                                                                                \u001b[0m\u001b[1m \u001b[0m┃\n",
       "┡━━━━━━━━━╇━━━━━━━━━━━━━━━━━━━━━━━━━━━━━━━━━━━━━━━━━━━━━━━━━━━━━━━━━━━━━━━━━━━━━━━━━━━━━━━━━━━━━━━━━━━━━━━━━━━━━━━┩\n",
       "│\u001b[36m \u001b[0m\u001b[36mRows   \u001b[0m\u001b[36m \u001b[0m│\u001b[35m \u001b[0m\u001b[35m23                                                                                                   \u001b[0m\u001b[35m \u001b[0m│\n",
       "│\u001b[36m \u001b[0m\u001b[36mColumns\u001b[0m\u001b[36m \u001b[0m│\u001b[35m \u001b[0m\u001b[35mdocument_outline, document_title, domain, icl_document, icl_query_1, icl_response_1, icl_query_2,    \u001b[0m\u001b[35m \u001b[0m│\n",
       "│\u001b[36m         \u001b[0m│\u001b[35m \u001b[0m\u001b[35micl_response_2, icl_query_3, icl_response_3, raw_document, dataset_type, document, question,         \u001b[0m\u001b[35m \u001b[0m│\n",
       "│\u001b[36m         \u001b[0m│\u001b[35m \u001b[0m\u001b[35mresponse, explanation, rating                                                                        \u001b[0m\u001b[35m \u001b[0m│\n",
       "└─────────┴───────────────────────────────────────────────────────────────────────────────────────────────────────┘\n"
      ]
     },
     "metadata": {},
     "output_type": "display_data"
    },
    {
     "name": "stderr",
     "output_type": "stream",
     "text": [
      "Map: 100%|██████████| 23/23 [00:00<00:00, 3213.17 examples/s]\n",
      "Filter: 100%|██████████| 23/23 [00:00<00:00, 9263.39 examples/s]\n",
      "Filter: 100%|██████████| 23/23 [00:00<00:00, 8270.66 examples/s]\n"
     ]
    },
    {
     "data": {
      "text/html": [
       "<pre style=\"white-space:pre;overflow-x:auto;line-height:normal;font-family:Menlo,'DejaVu Sans Mono',consolas,'Courier New',monospace\"><span style=\"font-style: italic\">                                    Output Block 13/13: filter_verify_question                                     </span>\n",
       "┏━━━━━━━━━┳━━━━━━━━━━━━━━━━━━━━━━━━━━━━━━━━━━━━━━━━━━━━━━━━━━━━━━━━━━━━━━━━━━━━━━━━━━━━━━━━━━━━━━━━━━━━━━━━━━━━━━━┓\n",
       "┃<span style=\"font-weight: bold\"> Metric  </span>┃<span style=\"font-weight: bold\"> Value                                                                                                 </span>┃\n",
       "┡━━━━━━━━━╇━━━━━━━━━━━━━━━━━━━━━━━━━━━━━━━━━━━━━━━━━━━━━━━━━━━━━━━━━━━━━━━━━━━━━━━━━━━━━━━━━━━━━━━━━━━━━━━━━━━━━━━┩\n",
       "│<span style=\"color: #008080; text-decoration-color: #008080\"> Rows    </span>│<span style=\"color: #800080; text-decoration-color: #800080\"> 3                                                                                                     </span>│\n",
       "│<span style=\"color: #008080; text-decoration-color: #008080\"> Columns </span>│<span style=\"color: #800080; text-decoration-color: #800080\"> document_outline, document_title, domain, icl_document, icl_query_1, icl_response_1, icl_query_2,     </span>│\n",
       "│<span style=\"color: #008080; text-decoration-color: #008080\">         </span>│<span style=\"color: #800080; text-decoration-color: #800080\"> icl_response_2, icl_query_3, icl_response_3, raw_document, dataset_type, document, question, response </span>│\n",
       "└─────────┴───────────────────────────────────────────────────────────────────────────────────────────────────────┘\n",
       "</pre>\n"
      ],
      "text/plain": [
       "\u001b[3m                                    Output Block 13/13: filter_verify_question                                     \u001b[0m\n",
       "┏━━━━━━━━━┳━━━━━━━━━━━━━━━━━━━━━━━━━━━━━━━━━━━━━━━━━━━━━━━━━━━━━━━━━━━━━━━━━━━━━━━━━━━━━━━━━━━━━━━━━━━━━━━━━━━━━━━┓\n",
       "┃\u001b[1m \u001b[0m\u001b[1mMetric \u001b[0m\u001b[1m \u001b[0m┃\u001b[1m \u001b[0m\u001b[1mValue                                                                                                \u001b[0m\u001b[1m \u001b[0m┃\n",
       "┡━━━━━━━━━╇━━━━━━━━━━━━━━━━━━━━━━━━━━━━━━━━━━━━━━━━━━━━━━━━━━━━━━━━━━━━━━━━━━━━━━━━━━━━━━━━━━━━━━━━━━━━━━━━━━━━━━━┩\n",
       "│\u001b[36m \u001b[0m\u001b[36mRows   \u001b[0m\u001b[36m \u001b[0m│\u001b[35m \u001b[0m\u001b[35m3                                                                                                    \u001b[0m\u001b[35m \u001b[0m│\n",
       "│\u001b[36m \u001b[0m\u001b[36mColumns\u001b[0m\u001b[36m \u001b[0m│\u001b[35m \u001b[0m\u001b[35mdocument_outline, document_title, domain, icl_document, icl_query_1, icl_response_1, icl_query_2,    \u001b[0m\u001b[35m \u001b[0m│\n",
       "│\u001b[36m         \u001b[0m│\u001b[35m \u001b[0m\u001b[35micl_response_2, icl_query_3, icl_response_3, raw_document, dataset_type, document, question, response\u001b[0m\u001b[35m \u001b[0m│\n",
       "└─────────┴───────────────────────────────────────────────────────────────────────────────────────────────────────┘\n"
      ]
     },
     "metadata": {},
     "output_type": "display_data"
    },
    {
     "data": {
      "text/html": [
       "<pre style=\"white-space:pre;overflow-x:auto;line-height:normal;font-family:Menlo,'DejaVu Sans Mono',consolas,'Courier New',monospace\"><span style=\"color: #7fbfbf; text-decoration-color: #7fbfbf\">[16:41:08] </span><span style=\"color: #000080; text-decoration-color: #000080\">INFO    </span> Finished future processing split <span style=\"color: #008080; text-decoration-color: #008080; font-weight: bold\">0</span>                                                   <a href=\"file:///Users/aditisaluja/Desktop/sdg_hub/.venv_sdg/lib/python3.9/site-packages/sdg_hub/sdg.py\" target=\"_blank\"><span style=\"color: #7f7f7f; text-decoration-color: #7f7f7f\">sdg.py</span></a><span style=\"color: #7f7f7f; text-decoration-color: #7f7f7f\">:</span><a href=\"file:///Users/aditisaluja/Desktop/sdg_hub/.venv_sdg/lib/python3.9/site-packages/sdg_hub/sdg.py#190\" target=\"_blank\"><span style=\"color: #7f7f7f; text-decoration-color: #7f7f7f\">190</span></a>\n",
       "<span style=\"color: #7fbfbf; text-decoration-color: #7fbfbf\">           </span>                                                                                              <span style=\"color: #7f7f7f; text-decoration-color: #7f7f7f\">          </span>\n",
       "<span style=\"color: #7fbfbf; text-decoration-color: #7fbfbf\">           </span>                                                                                              <span style=\"color: #7f7f7f; text-decoration-color: #7f7f7f\">          </span>\n",
       "</pre>\n"
      ],
      "text/plain": [
       "\u001b[2;36m[16:41:08]\u001b[0m\u001b[2;36m \u001b[0m\u001b[34mINFO    \u001b[0m Finished future processing split \u001b[1;36m0\u001b[0m                                                   \u001b]8;id=105194;file:///Users/aditisaluja/Desktop/sdg_hub/.venv_sdg/lib/python3.9/site-packages/sdg_hub/sdg.py\u001b\\\u001b[2msdg.py\u001b[0m\u001b]8;;\u001b\\\u001b[2m:\u001b[0m\u001b]8;id=991725;file:///Users/aditisaluja/Desktop/sdg_hub/.venv_sdg/lib/python3.9/site-packages/sdg_hub/sdg.py#190\u001b\\\u001b[2m190\u001b[0m\u001b]8;;\u001b\\\n",
       "\u001b[2;36m           \u001b[0m                                                                                              \u001b[2m          \u001b[0m\n",
       "\u001b[2;36m           \u001b[0m                                                                                              \u001b[2m          \u001b[0m\n"
      ]
     },
     "metadata": {},
     "output_type": "display_data"
    },
    {
     "name": "stderr",
     "output_type": "stream",
     "text": [
      "100%|██████████| 1/1 [02:03<00:00, 123.95s/it]\n"
     ]
    }
   ],
   "source": [
    "\n",
    "data = sdg.generate(ds)"
   ]
  },
  {
   "cell_type": "markdown",
   "metadata": {},
   "source": [
    "## Analyze Contents of Generated Data"
   ]
  },
  {
   "cell_type": "code",
   "execution_count": 11,
   "metadata": {},
   "outputs": [
    {
     "data": {
      "text/plain": [
       "Dataset({\n",
       "    features: ['document_outline', 'document_title', 'domain', 'icl_document', 'icl_query_1', 'icl_response_1', 'icl_query_2', 'icl_response_2', 'icl_query_3', 'icl_response_3', 'raw_document', 'dataset_type', 'document', 'question', 'response'],\n",
       "    num_rows: 3\n",
       "})"
      ]
     },
     "execution_count": 11,
     "metadata": {},
     "output_type": "execute_result"
    }
   ],
   "source": [
    "data"
   ]
  },
  {
   "cell_type": "code",
   "execution_count": 24,
   "metadata": {},
   "outputs": [
    {
     "name": "stdout",
     "output_type": "stream",
     "text": [
      "***question***:  What was the impact of IBM's focus on high-value offerings and productivity initiatives on its operating gross profit margin in 2024?\n",
      "***response***:  IBM's focus on high-value offerings and productivity initiatives led to an expansion of its operating gross profit margin by 130 basis points in 2024. This strategic emphasis contributed to improved profitability and financial performance.  \n",
      "\n",
      "***domain***:  Standard Procedure Mannual\n",
      "***raw_document/Chunked Document***:  ## Let' s Create\n",
      "\n",
      "\n",
      "<!-- image -->\n",
      "\n",
      "2024 A n nual Report\n",
      "\n",
      "\n",
      "<!-- image -->\n",
      "\n",
      "Arvind Krishna Chairman, President and Chief Executive Officer\n",
      "<!-- image -->\n",
      "\n",
      "## Dear IBM Investor:\n",
      "\n",
      "In 2024, IBM made significant progress in becoming a higher growth, higher margin business. We made this progress by combining technology innovation and consulting expertise to drive growth, improve productivity, and enhance operational efficiency -for our clients, and our own company.\n",
      "\n",
      "Our strategy continues to build upon the two technological foundations of AI and hybrid cloud, which clients need to unlock the full value of their data. We have made a series of investments to accelerate the delivery of that value to our clients, from transforming the way we work to reorienting our portfolio around powerful, AI-based solutions.\n",
      "\n",
      "As this report demonstrates, these investments are paying off, delivering meaningful returns for our shareholders, clients, and partners. Today, IBM is a software-led, fully integrated platform company, built to grow sustainably. This is the ROI of IBM.\n",
      "\n",
      "## 2024 Performance\n",
      "\n",
      "For the year, IBM generated $62.8 billion in revenue, up 3% at constant currency, and $12.7 billion in free cash flow - an increase of $1.5 billion year-over-year. Our generative AI book of business now stands at more than $5 billion since inception. This revenue growth and cash generation enabled us to make significant investments in the business and deliver value to our shareholders. In 2024, we allocated more than $7 billion to research and development, closed 11 acquisitions to enhance our capabilities, and returned more than $6 billion\n",
      "\n",
      "\n",
      "<!-- image -->\n",
      "\n",
      "to shareholders through dividends. IBM expanded operating gross profit margin by 130 basis points in 2024, driven by a focus on high-value offerings and productivity initiatives.\n",
      "\n",
      "Software revenue grew 9% at constant currency, reflecting strong demand for our advanced capabilities in hybrid cloud, data and AI, automation, transaction processing, and security. Red Hat performed well as clients embraced its open hybrid cloud platform.\n",
      "\n",
      "Consulting revenue increased 1% at constant currency, demonstrating our clients' continued need for expertise in AI deployment, digital transformation, and cloud modernization, despite a dynamic market environment.\n",
      "\n",
      "Infrastructure revenue declined 3% at constant currency, in line with product cycle expectations. IBM z16 is now the most successful mainframe program in our history, highlighting its enduring value to clients.\n",
      "***Extractive Summary of the Document***:  Here is a detailed extractive summary of the provided document:\n",
      "\n",
      "---\n",
      "\n",
      "**DB-SUSP-2ND-DAY-BAL Standard Operating Procedure (SOP) - 2024 Annual Report**\n",
      "\n",
      "- **Leadership**: Arvind Krishna, Chairman, President, and CEO of IBM.\n",
      "\n",
      "- **2024 Progress**: IBM has advanced towards becoming a higher growth, higher margin business by leveraging technology innovation and consulting expertise. This strategy focuses on AI and hybrid cloud technologies to unlock the full value of client data.\n",
      "\n",
      "- **Investments and Strategy**: IBM has invested in transforming its operations and reorienting its portfolio towards AI-based solutions, resulting in meaningful returns for shareholders, clients, and partners. IBM is now a software-led, fully integrated platform company.\n",
      "\n",
      "- **2024 Performance**:\n",
      "  - **Revenue**: $62.8 billion, up 3% at constant currency.\n",
      "  - **Free Cash Flow**: $12.7 billion, an increase of $1.5 billion year-over-year.\n",
      "  - **Generative AI Book of Business**: Over $5 billion since inception.\n",
      "  - **Investments**: More than $7 billion allocated to research and development, 11 acquisitions closed, and over $6 billion returned to shareholders through dividends.\n",
      "  - **Operating Gross Profit Margin**: Expanded by 130 basis points due to a focus on high-value offerings and productivity initiatives.\n",
      "\n",
      "- **Revenue Breakdown**:\n",
      "  - **Software Revenue**: Grew 9% at constant currency, driven by demand for hybrid cloud, data and AI, automation, transaction processing, and security. Red Hat's open hybrid cloud platform performed well.\n",
      "  - **Consulting Revenue**: Increased 1% at constant currency, reflecting demand for AI deployment, digital transformation, and cloud modernization expertise.\n",
      "  - **Infrastructure Revenue**: Declined 3% at constant currency, consistent with product cycle expectations. IBM z16 is noted as the most successful mainframe program in the company's history.\n",
      "\n",
      "--- \n",
      "\n",
      "This summary captures all the key points from the document without adding any new information.\n"
     ]
    }
   ],
   "source": [
    "print(\"***question***: \", data[0]['question'])\n",
    "print(\"***response***: \", data[0]['response'])    \n",
    "print(\"***domain***: \", data[0]['domain'])\n",
    "print(\"***raw_document/Chunked Document***: \", data[0]['raw_document'])\n",
    "print(\"***Extractive Summary of the Document***: \", data[0]['document'])\n",
    "\n"
   ]
  }
 ],
 "metadata": {
  "kernelspec": {
   "display_name": ".venv_sdg",
   "language": "python",
   "name": "python3"
  },
  "language_info": {
   "codemirror_mode": {
    "name": "ipython",
    "version": 3
   },
   "file_extension": ".py",
   "mimetype": "text/x-python",
   "name": "python",
   "nbconvert_exporter": "python",
   "pygments_lexer": "ipython3",
   "version": "3.9.6"
  }
 },
 "nbformat": 4,
 "nbformat_minor": 2
}
